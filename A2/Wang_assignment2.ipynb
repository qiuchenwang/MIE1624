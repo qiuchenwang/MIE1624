{
 "cells": [
  {
   "cell_type": "code",
   "execution_count": 176,
   "metadata": {
    "colab": {},
    "colab_type": "code",
    "id": "vkDY7LwReTtl"
   },
   "outputs": [],
   "source": [
    "import numpy as np\n",
    "import pandas as pd\n",
    "import sklearn\n",
    "import re\n",
    "import html\n",
    "import nltk\n",
    "from nltk.corpus import stopwords\n",
    "import matplotlib.pyplot as plt\n",
    "import seaborn as sns\n",
    "from wordcloud import WordCloud\n",
    "from ast import literal_eval\n",
    "from sklearn.model_selection import train_test_split\n",
    "from sklearn.feature_extraction.text import CountVectorizer\n",
    "from sklearn.feature_extraction.text import TfidfVectorizer\n",
    "from sklearn import preprocessing\n",
    "from sklearn.pipeline import make_pipeline\n",
    "from sklearn.svm import SVC\n",
    "from sklearn.linear_model import LogisticRegression\n",
    "from sklearn.naive_bayes import MultinomialNB, GaussianNB\n",
    "from sklearn.neighbors import KNeighborsClassifier\n",
    "from sklearn.ensemble import RandomForestClassifier\n",
    "from sklearn.tree import DecisionTreeClassifier\n",
    "from sklearn.model_selection import KFold\n",
    "from sklearn.preprocessing import StandardScaler\n",
    "from sklearn.metrics import accuracy_score, f1_score\n",
    "from sklearn.metrics import classification_report\n",
    "from sklearn.model_selection import GridSearchCV, KFold\n",
    "from sklearn.metrics import confusion_matrix\n",
    "import warnings\n",
    "# specify to ignore warning messages\n",
    "warnings.filterwarnings(\"ignore\") "
   ]
  },
  {
   "cell_type": "code",
   "execution_count": 3,
   "metadata": {
    "colab": {
     "base_uri": "https://localhost:8080/",
     "height": 204
    },
    "colab_type": "code",
    "executionInfo": {
     "elapsed": 4708,
     "status": "ok",
     "timestamp": 1585244609612,
     "user": {
      "displayName": "Qiuchen Wang",
      "photoUrl": "",
      "userId": "05364527419333773535"
     },
     "user_tz": 240
    },
    "id": "3_ofAk_DfHUE",
    "outputId": "e2645fa3-8fa4-41f6-dcc3-1c45c98612f3"
   },
   "outputs": [
    {
     "data": {
      "text/html": [
       "<div>\n",
       "<style scoped>\n",
       "    .dataframe tbody tr th:only-of-type {\n",
       "        vertical-align: middle;\n",
       "    }\n",
       "\n",
       "    .dataframe tbody tr th {\n",
       "        vertical-align: top;\n",
       "    }\n",
       "\n",
       "    .dataframe thead th {\n",
       "        text-align: right;\n",
       "    }\n",
       "</style>\n",
       "<table border=\"1\" class=\"dataframe\">\n",
       "  <thead>\n",
       "    <tr style=\"text-align: right;\">\n",
       "      <th></th>\n",
       "      <th>sentiment</th>\n",
       "      <th>negative_reason</th>\n",
       "      <th>text</th>\n",
       "    </tr>\n",
       "  </thead>\n",
       "  <tbody>\n",
       "    <tr>\n",
       "      <th>0</th>\n",
       "      <td>Negative</td>\n",
       "      <td>Women Reproductive right and Racism</td>\n",
       "      <td>b\"@RosieBarton So instead of your suggestion, ...</td>\n",
       "    </tr>\n",
       "    <tr>\n",
       "      <th>1</th>\n",
       "      <td>Positive</td>\n",
       "      <td></td>\n",
       "      <td>b\"#AllWomanSpacewalk it's real!\\n@Space_Statio...</td>\n",
       "    </tr>\n",
       "    <tr>\n",
       "      <th>2</th>\n",
       "      <td>Negative</td>\n",
       "      <td>Economy</td>\n",
       "      <td>b\"#Brantford It's going to cost YOU $94 BILLIO...</td>\n",
       "    </tr>\n",
       "    <tr>\n",
       "      <th>3</th>\n",
       "      <td>Positive</td>\n",
       "      <td></td>\n",
       "      <td>b\"#Canada #CanadaElection2019 #CanadaVotes \\n#...</td>\n",
       "    </tr>\n",
       "    <tr>\n",
       "      <th>4</th>\n",
       "      <td>Negative</td>\n",
       "      <td>Economy</td>\n",
       "      <td>b\"#Canada #taxpayers are sick &amp;amp; tired of h...</td>\n",
       "    </tr>\n",
       "  </tbody>\n",
       "</table>\n",
       "</div>"
      ],
      "text/plain": [
       "  sentiment                      negative_reason  \\\n",
       "0  Negative  Women Reproductive right and Racism   \n",
       "1  Positive                                        \n",
       "2  Negative                              Economy   \n",
       "3  Positive                                        \n",
       "4  Negative                              Economy   \n",
       "\n",
       "                                                text  \n",
       "0  b\"@RosieBarton So instead of your suggestion, ...  \n",
       "1  b\"#AllWomanSpacewalk it's real!\\n@Space_Statio...  \n",
       "2  b\"#Brantford It's going to cost YOU $94 BILLIO...  \n",
       "3  b\"#Canada #CanadaElection2019 #CanadaVotes \\n#...  \n",
       "4  b\"#Canada #taxpayers are sick &amp; tired of h...  "
      ]
     },
     "execution_count": 3,
     "metadata": {},
     "output_type": "execute_result"
    }
   ],
   "source": [
    "# Loading classified_tweets.txt\n",
    "election = pd.read_csv('Canadian_elections_2019.csv')\n",
    "election = election.replace(np.nan, '', regex=True)\n",
    "tweets = pd.read_csv('Sentiment.csv')\n",
    "election.head()"
   ]
  },
  {
   "cell_type": "code",
   "execution_count": 4,
   "metadata": {
    "colab": {
     "base_uri": "https://localhost:8080/",
     "height": 204
    },
    "colab_type": "code",
    "executionInfo": {
     "elapsed": 853,
     "status": "ok",
     "timestamp": 1585244612943,
     "user": {
      "displayName": "Qiuchen Wang",
      "photoUrl": "",
      "userId": "05364527419333773535"
     },
     "user_tz": 240
    },
    "id": "BEEN6mKCfLiU",
    "outputId": "f84b42ae-b03c-45e7-e81e-e7e3ab5f84f2"
   },
   "outputs": [
    {
     "data": {
      "text/html": [
       "<div>\n",
       "<style scoped>\n",
       "    .dataframe tbody tr th:only-of-type {\n",
       "        vertical-align: middle;\n",
       "    }\n",
       "\n",
       "    .dataframe tbody tr th {\n",
       "        vertical-align: top;\n",
       "    }\n",
       "\n",
       "    .dataframe thead th {\n",
       "        text-align: right;\n",
       "    }\n",
       "</style>\n",
       "<table border=\"1\" class=\"dataframe\">\n",
       "  <thead>\n",
       "    <tr style=\"text-align: right;\">\n",
       "      <th></th>\n",
       "      <th>sentiment</th>\n",
       "      <th>text</th>\n",
       "    </tr>\n",
       "  </thead>\n",
       "  <tbody>\n",
       "    <tr>\n",
       "      <th>0</th>\n",
       "      <td>Positive</td>\n",
       "      <td>RT @Diplomtc_Immnty: @realDonaldTrump They tri...</td>\n",
       "    </tr>\n",
       "    <tr>\n",
       "      <th>1</th>\n",
       "      <td>Negative</td>\n",
       "      <td>@chiefy74 Damn i'm jealous, i wanna watch the ...</td>\n",
       "    </tr>\n",
       "    <tr>\n",
       "      <th>2</th>\n",
       "      <td>Positive</td>\n",
       "      <td>I'm listening The Beatles now. They're great</td>\n",
       "    </tr>\n",
       "    <tr>\n",
       "      <th>3</th>\n",
       "      <td>Positive</td>\n",
       "      <td>@ddlovato could i please get a shout out or an...</td>\n",
       "    </tr>\n",
       "    <tr>\n",
       "      <th>4</th>\n",
       "      <td>Positive</td>\n",
       "      <td>@salspizza just spotted ur message there Tony ...</td>\n",
       "    </tr>\n",
       "  </tbody>\n",
       "</table>\n",
       "</div>"
      ],
      "text/plain": [
       "  sentiment                                               text\n",
       "0  Positive  RT @Diplomtc_Immnty: @realDonaldTrump They tri...\n",
       "1  Negative  @chiefy74 Damn i'm jealous, i wanna watch the ...\n",
       "2  Positive      I'm listening The Beatles now. They're great \n",
       "3  Positive  @ddlovato could i please get a shout out or an...\n",
       "4  Positive  @salspizza just spotted ur message there Tony ..."
      ]
     },
     "execution_count": 4,
     "metadata": {},
     "output_type": "execute_result"
    }
   ],
   "source": [
    "tweets.head()"
   ]
  },
  {
   "cell_type": "markdown",
   "metadata": {
    "colab_type": "text",
    "id": "3yKIyvwegrBX"
   },
   "source": [
    "# Step1. Data cleaning"
   ]
  },
  {
   "cell_type": "code",
   "execution_count": 5,
   "metadata": {
    "colab": {},
    "colab_type": "code",
    "id": "3hc3wFYUfbf2"
   },
   "outputs": [],
   "source": [
    "#unicode to ascii\n",
    "import ast\n",
    "election['text'] = election['text'].apply(ast.literal_eval).str.decode(\"utf-8\")"
   ]
  },
  {
   "cell_type": "code",
   "execution_count": 7,
   "metadata": {
    "colab": {},
    "colab_type": "code",
    "id": "eLs95aVcg679"
   },
   "outputs": [],
   "source": [
    "def getStopWordList(stopWordListFileName):\n",
    "    # Read the stopwords file and build a list\n",
    "    stop_words = ['today','day','will','going','twitter','gonna','tweet','tomorrow','now']\n",
    "    f = open(stopWordListFileName, 'r')\n",
    "    for line in f:\n",
    "        word = line.strip()\n",
    "        stop_words.append(word)\n",
    "    f.close()\n",
    "    return stop_words\n",
    "stop_words = getStopWordList('stop_words.txt')"
   ]
  },
  {
   "cell_type": "code",
   "execution_count": 8,
   "metadata": {
    "colab": {},
    "colab_type": "code",
    "id": "BttDnB0qhElX"
   },
   "outputs": [],
   "source": [
    "def processTweet(tweets):\n",
    "    \n",
    "    # Remove HTML tags\n",
    "    pattern = re.compile(r'<[^>]+>')\n",
    "    tweets = re.sub(pattern, '' , str(tweets))\n",
    "    \n",
    "    # Convert characters in the text to lower case\n",
    "    tweets = tweets.lower()\n",
    "    \n",
    "    # Replace HTML charactercodes with ASCII\n",
    "    tweets = html.unescape(tweets)\n",
    "    \n",
    "    # Remove all URLs\n",
    "    tweets=re.sub('(http|https|ftp)://[a-zA-Z0-9\\\\./]+','',tweets)\n",
    "    \n",
    "    # Remove all stop words\n",
    "    tweets_list = []\n",
    "    for tw in tweets.split():\n",
    "        if tw not in stop_words:\n",
    "            tweets_list.append(tw)\n",
    "            tweets_list.append(' ')\n",
    "    tweets = ''.join(tweets_list)\n",
    "    \n",
    "    #clean all the non letter characters including numbers\n",
    "    tweets = re.sub(\"[^a-zA-Z']\",' ', tweets)\n",
    "    \n",
    "    return tweets"
   ]
  },
  {
   "cell_type": "code",
   "execution_count": 9,
   "metadata": {
    "colab": {
     "base_uri": "https://localhost:8080/",
     "height": 204
    },
    "colab_type": "code",
    "executionInfo": {
     "elapsed": 58089,
     "status": "ok",
     "timestamp": 1585244686067,
     "user": {
      "displayName": "Qiuchen Wang",
      "photoUrl": "",
      "userId": "05364527419333773535"
     },
     "user_tz": 240
    },
    "id": "slSd3SgGhF4Q",
    "outputId": "03cc098c-8b1f-408f-9106-8cf2c22d32d4"
   },
   "outputs": [
    {
     "data": {
      "text/html": [
       "<div>\n",
       "<style scoped>\n",
       "    .dataframe tbody tr th:only-of-type {\n",
       "        vertical-align: middle;\n",
       "    }\n",
       "\n",
       "    .dataframe tbody tr th {\n",
       "        vertical-align: top;\n",
       "    }\n",
       "\n",
       "    .dataframe thead th {\n",
       "        text-align: right;\n",
       "    }\n",
       "</style>\n",
       "<table border=\"1\" class=\"dataframe\">\n",
       "  <thead>\n",
       "    <tr style=\"text-align: right;\">\n",
       "      <th></th>\n",
       "      <th>sentiment</th>\n",
       "      <th>text</th>\n",
       "    </tr>\n",
       "  </thead>\n",
       "  <tbody>\n",
       "    <tr>\n",
       "      <th>0</th>\n",
       "      <td>Positive</td>\n",
       "      <td>rt  diplomtc immnty   realdonaldtrump   poll n...</td>\n",
       "    </tr>\n",
       "    <tr>\n",
       "      <th>1</th>\n",
       "      <td>Negative</td>\n",
       "      <td>chiefy   damn i'm jealous  wanna watch fight ...</td>\n",
       "    </tr>\n",
       "    <tr>\n",
       "      <th>2</th>\n",
       "      <td>Positive</td>\n",
       "      <td>i'm listening beatles now  they're great</td>\n",
       "    </tr>\n",
       "    <tr>\n",
       "      <th>3</th>\n",
       "      <td>Positive</td>\n",
       "      <td>ddlovato shout anything  i'm huge fan  wait cd</td>\n",
       "    </tr>\n",
       "    <tr>\n",
       "      <th>4</th>\n",
       "      <td>Positive</td>\n",
       "      <td>salspizza spotted ur message tony replied</td>\n",
       "    </tr>\n",
       "  </tbody>\n",
       "</table>\n",
       "</div>"
      ],
      "text/plain": [
       "  sentiment                                               text\n",
       "0  Positive  rt  diplomtc immnty   realdonaldtrump   poll n...\n",
       "1  Negative   chiefy   damn i'm jealous  wanna watch fight ...\n",
       "2  Positive          i'm listening beatles now  they're great \n",
       "3  Positive    ddlovato shout anything  i'm huge fan  wait cd \n",
       "4  Positive         salspizza spotted ur message tony replied "
      ]
     },
     "execution_count": 9,
     "metadata": {},
     "output_type": "execute_result"
    }
   ],
   "source": [
    "# Process data in tweets\n",
    "for i in range(0,len(tweets)):\n",
    "    tweets.iloc[i]['text'] = processTweet(tweets.iloc[i]['text'])\n",
    "tweets.head()"
   ]
  },
  {
   "cell_type": "code",
   "execution_count": 10,
   "metadata": {
    "colab": {
     "base_uri": "https://localhost:8080/",
     "height": 204
    },
    "colab_type": "code",
    "executionInfo": {
     "elapsed": 2284,
     "status": "ok",
     "timestamp": 1585244692316,
     "user": {
      "displayName": "Qiuchen Wang",
      "photoUrl": "",
      "userId": "05364527419333773535"
     },
     "user_tz": 240
    },
    "id": "LM4FAHGVhGCD",
    "outputId": "f0c8b3b5-b234-4e49-fa62-fecd49d7c318"
   },
   "outputs": [
    {
     "data": {
      "text/html": [
       "<div>\n",
       "<style scoped>\n",
       "    .dataframe tbody tr th:only-of-type {\n",
       "        vertical-align: middle;\n",
       "    }\n",
       "\n",
       "    .dataframe tbody tr th {\n",
       "        vertical-align: top;\n",
       "    }\n",
       "\n",
       "    .dataframe thead th {\n",
       "        text-align: right;\n",
       "    }\n",
       "</style>\n",
       "<table border=\"1\" class=\"dataframe\">\n",
       "  <thead>\n",
       "    <tr style=\"text-align: right;\">\n",
       "      <th></th>\n",
       "      <th>sentiment</th>\n",
       "      <th>negative_reason</th>\n",
       "      <th>text</th>\n",
       "    </tr>\n",
       "  </thead>\n",
       "  <tbody>\n",
       "    <tr>\n",
       "      <th>0</th>\n",
       "      <td>Negative</td>\n",
       "      <td>Women Reproductive right and Racism</td>\n",
       "      <td>rosiebarton suggestion  agree  canadian  wome...</td>\n",
       "    </tr>\n",
       "    <tr>\n",
       "      <th>1</th>\n",
       "      <td>Positive</td>\n",
       "      <td></td>\n",
       "      <td>allwomanspacewalk it's real   space station  ...</td>\n",
       "    </tr>\n",
       "    <tr>\n",
       "      <th>2</th>\n",
       "      <td>Negative</td>\n",
       "      <td>Economy</td>\n",
       "      <td>brantford it's cost     billion   years  just...</td>\n",
       "    </tr>\n",
       "    <tr>\n",
       "      <th>3</th>\n",
       "      <td>Positive</td>\n",
       "      <td></td>\n",
       "      <td>canada  canadaelection      canadavotes  elxn...</td>\n",
       "    </tr>\n",
       "    <tr>\n",
       "      <th>4</th>\n",
       "      <td>Negative</td>\n",
       "      <td>Economy</td>\n",
       "      <td>canada  taxpayers sick   tired hard earned   ...</td>\n",
       "    </tr>\n",
       "  </tbody>\n",
       "</table>\n",
       "</div>"
      ],
      "text/plain": [
       "  sentiment                      negative_reason  \\\n",
       "0  Negative  Women Reproductive right and Racism   \n",
       "1  Positive                                        \n",
       "2  Negative                              Economy   \n",
       "3  Positive                                        \n",
       "4  Negative                              Economy   \n",
       "\n",
       "                                                text  \n",
       "0   rosiebarton suggestion  agree  canadian  wome...  \n",
       "1   allwomanspacewalk it's real   space station  ...  \n",
       "2   brantford it's cost     billion   years  just...  \n",
       "3   canada  canadaelection      canadavotes  elxn...  \n",
       "4   canada  taxpayers sick   tired hard earned   ...  "
      ]
     },
     "execution_count": 10,
     "metadata": {},
     "output_type": "execute_result"
    }
   ],
   "source": [
    "# Process data in election\n",
    "for i in range(len(election)):\n",
    "    election.iloc[i]['text'] = processTweet(election.iloc[i]['text'])\n",
    "election.head()"
   ]
  },
  {
   "cell_type": "markdown",
   "metadata": {
    "colab_type": "text",
    "id": "5-Ld0h01ih_l"
   },
   "source": [
    "# Step2. Exploratory Data Analysis"
   ]
  },
  {
   "cell_type": "markdown",
   "metadata": {
    "colab_type": "text",
    "id": "5Shzsoqlij_6"
   },
   "source": [
    "##2.1 Determine the political party of a given tweets"
   ]
  },
  {
   "cell_type": "markdown",
   "metadata": {
    "colab_type": "text",
    "id": "Yg1vS-0TipYA"
   },
   "source": [
    "### 2.1.1 Top 3 Canadian Political Parties in 2019 Canadian Federal election:"
   ]
  },
  {
   "cell_type": "markdown",
   "metadata": {
    "colab_type": "text",
    "id": "G2DARp1rittZ"
   },
   "source": [
    "**Liberal**\n",
    "\n",
    "leader: Justin Trudeau\n",
    "\n",
    "Slogan: Choose Forward\n",
    "\n",
    "relevant words and hashtags: Trudeau, @JustinTrudeau, #ChooseForward, Liberal, @liberal_party, Justin, Liberals, #TrudeauMustGo\n",
    "\n",
    "**Conservative**\n",
    "\n",
    "leader: Andrew Scheer\n",
    "\n",
    "Slogan: It's time for you to get ahead.\n",
    "\n",
    "relevant words and hashtags: Scheer, @AndrewScheer, @CPC_HQ, Conservatives, CPC, Conservative, #CPC, Andrew, #Scheer, #ScheerLies\n",
    "\n",
    "**New Democratic(NDP)**\n",
    "\n",
    "leader: Jagmeet Singh\n",
    "\n",
    "Slogan: In it for you.\n",
    "\n",
    "relevant words and hashtags: NDP, @theJagmeetSingh, #UpRiSingh, #NDP, @NDP"
   ]
  },
  {
   "cell_type": "markdown",
   "metadata": {
    "colab_type": "text",
    "id": "anHnbGMBi84e"
   },
   "source": [
    "### 2.1.2 Find out relevant political parties based on key words"
   ]
  },
  {
   "cell_type": "code",
   "execution_count": 11,
   "metadata": {
    "colab": {},
    "colab_type": "code",
    "id": "cT6ootLXhGIj"
   },
   "outputs": [],
   "source": [
    "# One-hot Encode election\n",
    "# Cell with 'True' suggests the tweet is relevant to the corresponding political party\n",
    "election[\"Liberal\"] = election['text'].str.contains('justin|trudeau|justintrudeau|liberal|chooseforward')\n",
    "election[\"Conservative\"] = election['text'].str.contains('scheer|andrew|andrewscheer|conservative|cpc')\n",
    "election[\"NewDemocratic\"] = election['text'].str.contains('jagmeet|singh|thejagmeetsingh|newdemocratic|ndp|uprisingh')\n",
    "election[\"None\"] = election['text'].str.contains('justin|trudeau|justintrudeau|liberal|chooseforward|scheer|andrew|andrewscheer|conservative|cpc|jagmeet|singh|thejagmeetsingh|newdemocratic|ndp|uprisingh')"
   ]
  },
  {
   "cell_type": "code",
   "execution_count": 12,
   "metadata": {
    "colab": {
     "base_uri": "https://localhost:8080/",
     "height": 153
    },
    "colab_type": "code",
    "executionInfo": {
     "elapsed": 833,
     "status": "ok",
     "timestamp": 1585244700280,
     "user": {
      "displayName": "Qiuchen Wang",
      "photoUrl": "",
      "userId": "05364527419333773535"
     },
     "user_tz": 240
    },
    "id": "Kd53IpfMhGLh",
    "outputId": "3ff7ce93-cc58-467e-ec01-a052e13d578d"
   },
   "outputs": [
    {
     "name": "stdout",
     "output_type": "stream",
     "text": [
      "Liberal    642\n",
      "Name: Liberal, dtype: int64\n",
      "Conservative    711\n",
      "Name: Conservative, dtype: int64\n",
      "NewDemocratic    267\n",
      "Name: NewDemocratic, dtype: int64\n",
      "None    867\n",
      "Name: None, dtype: int64\n"
     ]
    }
   ],
   "source": [
    "# Replacing values for 'True' with the corresponding party name\n",
    "election.loc[election['Liberal']== True, 'Liberal'] = 'Liberal'\n",
    "election.loc[election['Conservative']== True, 'Conservative'] = 'Conservative'\n",
    "election.loc[election['NewDemocratic']== True, 'NewDemocratic'] = 'NewDemocratic'\n",
    "election.loc[election['None']==False,'None']= 'None'\n",
    "election.loc[election['Liberal']== False, 'Liberal'] = None\n",
    "election.loc[election['Conservative']== False, 'Conservative'] = None\n",
    "election.loc[election['NewDemocratic']== False, 'NewDemocratic'] = None\n",
    "election.loc[election['None']==True,'None']=None\n",
    "\n",
    "print(election['Liberal'].value_counts())\n",
    "print(election['Conservative'].value_counts())\n",
    "print(election['NewDemocratic'].value_counts())\n",
    "print(election['None'].value_counts())"
   ]
  },
  {
   "cell_type": "code",
   "execution_count": 13,
   "metadata": {
    "colab": {
     "base_uri": "https://localhost:8080/",
     "height": 204
    },
    "colab_type": "code",
    "executionInfo": {
     "elapsed": 663,
     "status": "ok",
     "timestamp": 1585244705003,
     "user": {
      "displayName": "Qiuchen Wang",
      "photoUrl": "",
      "userId": "05364527419333773535"
     },
     "user_tz": 240
    },
    "id": "kJxiXO2GhGOP",
    "outputId": "72085392-aa7b-4533-f563-f8a04db4b04e"
   },
   "outputs": [
    {
     "data": {
      "text/html": [
       "<div>\n",
       "<style scoped>\n",
       "    .dataframe tbody tr th:only-of-type {\n",
       "        vertical-align: middle;\n",
       "    }\n",
       "\n",
       "    .dataframe tbody tr th {\n",
       "        vertical-align: top;\n",
       "    }\n",
       "\n",
       "    .dataframe thead th {\n",
       "        text-align: right;\n",
       "    }\n",
       "</style>\n",
       "<table border=\"1\" class=\"dataframe\">\n",
       "  <thead>\n",
       "    <tr style=\"text-align: right;\">\n",
       "      <th></th>\n",
       "      <th>election_tweets</th>\n",
       "    </tr>\n",
       "  </thead>\n",
       "  <tbody>\n",
       "    <tr>\n",
       "      <th>0</th>\n",
       "      <td>None</td>\n",
       "    </tr>\n",
       "    <tr>\n",
       "      <th>1</th>\n",
       "      <td>None</td>\n",
       "    </tr>\n",
       "    <tr>\n",
       "      <th>2</th>\n",
       "      <td>Liberal</td>\n",
       "    </tr>\n",
       "    <tr>\n",
       "      <th>3</th>\n",
       "      <td>None</td>\n",
       "    </tr>\n",
       "    <tr>\n",
       "      <th>4</th>\n",
       "      <td>Liberal</td>\n",
       "    </tr>\n",
       "  </tbody>\n",
       "</table>\n",
       "</div>"
      ],
      "text/plain": [
       "  election_tweets\n",
       "0            None\n",
       "1            None\n",
       "2         Liberal\n",
       "3            None\n",
       "4         Liberal"
      ]
     },
     "execution_count": 13,
     "metadata": {},
     "output_type": "execute_result"
    }
   ],
   "source": [
    "liberal = election[\"Liberal\"]\n",
    "conserv = election[\"Conservative\"]\n",
    "ND = election[\"NewDemocratic\"]\n",
    "none = election[\"None\"]\n",
    "\n",
    "# Concatenate columns for different political parties for countplot\n",
    "election_tweet_plot = pd.concat([liberal, conserv, ND, none])\n",
    "election_tweet_plot.unique()\n",
    "party = pd.DataFrame(election_tweet_plot, columns = ['election_tweets'])\n",
    "party.head()"
   ]
  },
  {
   "cell_type": "code",
   "execution_count": 14,
   "metadata": {
    "colab": {
     "base_uri": "https://localhost:8080/",
     "height": 352
    },
    "colab_type": "code",
    "executionInfo": {
     "elapsed": 947,
     "status": "ok",
     "timestamp": 1585170973971,
     "user": {
      "displayName": "Qiuchen Wang",
      "photoUrl": "",
      "userId": "05364527419333773535"
     },
     "user_tz": 240
    },
    "id": "txHh9ho-hGQ_",
    "outputId": "08f87d64-d7d9-4b92-df72-6a634ebffee6"
   },
   "outputs": [
    {
     "data": {
      "text/plain": [
       "<matplotlib.axes._subplots.AxesSubplot at 0x103b83b90>"
      ]
     },
     "execution_count": 14,
     "metadata": {},
     "output_type": "execute_result"
    },
    {
     "data": {
      "image/png": "[encoded data removed]",
      "text/plain": [
       "<Figure size 504x360 with 1 Axes>"
      ]
     },
     "metadata": {
      "needs_background": "light"
     },
     "output_type": "display_data"
    }
   ],
   "source": [
    "# Countplot for election tweets\n",
    "figure, ax1 = plt.subplots(nrows=1, ncols=1)\n",
    "figure.set_size_inches(7,5)\n",
    "sns.countplot(data = party, x = 'election_tweets' , palette = 'Set2')"
   ]
  },
  {
   "cell_type": "markdown",
   "metadata": {
    "colab_type": "text",
    "id": "MT2kS6wHjTnV"
   },
   "source": [
    "## 2.2 Find out relevant political parties based on key words"
   ]
  },
  {
   "cell_type": "markdown",
   "metadata": {
    "colab_type": "text",
    "id": "SEITdZKcjXUU"
   },
   "source": [
    "### 2.2.1 Visualization of Sentiment.csv"
   ]
  },
  {
   "cell_type": "code",
   "execution_count": 0,
   "metadata": {
    "colab": {
     "base_uri": "https://localhost:8080/",
     "height": 366
    },
    "colab_type": "code",
    "executionInfo": {
     "elapsed": 2305,
     "status": "ok",
     "timestamp": 1585075058795,
     "user": {
      "displayName": "Qiuchen Wang",
      "photoUrl": "",
      "userId": "05364527419333773535"
     },
     "user_tz": 240
    },
    "id": "ptnDfjDqhGTq",
    "outputId": "2034aac5-0c3e-43ae-f7fa-3ac2e9032910"
   },
   "outputs": [
    {
     "data": {
      "image/png": "[encoded data removed]",
      "text/plain": [
       "<Figure size 864x864 with 1 Axes>"
      ]
     },
     "metadata": {
      "tags": []
     },
     "output_type": "display_data"
    }
   ],
   "source": [
    "#world cloud of the generic tweets from Sentiment.csv\n",
    "tweets_string=\"\".join(tweets['text'])\n",
    "wordcloud=WordCloud(max_words = 100, collocations=False).generate(tweets_string)\n",
    "plt.figure(figsize=(12,12))\n",
    "plt.imshow(wordcloud,interpolation='bilinear')\n",
    "plt.axis('off')\n",
    "plt.show()"
   ]
  },
  {
   "cell_type": "markdown",
   "metadata": {
    "colab_type": "text",
    "id": "NI2KW_gWjdDZ"
   },
   "source": [
    "### 2.2.1 Visualization of 2019 Canadian election tweets"
   ]
  },
  {
   "cell_type": "code",
   "execution_count": 0,
   "metadata": {
    "colab": {
     "base_uri": "https://localhost:8080/",
     "height": 366
    },
    "colab_type": "code",
    "executionInfo": {
     "elapsed": 1846,
     "status": "ok",
     "timestamp": 1585075063313,
     "user": {
      "displayName": "Qiuchen Wang",
      "photoUrl": "",
      "userId": "05364527419333773535"
     },
     "user_tz": 240
    },
    "id": "eZFzFjVRjjTt",
    "outputId": "eb32add8-fc9a-4064-969b-5e76b00152b2"
   },
   "outputs": [
    {
     "data": {
      "image/png": "[encoded data removed]",
      "text/plain": [
       "<Figure size 864x864 with 1 Axes>"
      ]
     },
     "metadata": {
      "tags": []
     },
     "output_type": "display_data"
    }
   ],
   "source": [
    "#world cloud of 2019 Canadian election tweets\n",
    "election_string=\"\".join(election['text'])\n",
    "wordcloud=WordCloud(max_words = 100, collocations=False).generate(election_string)\n",
    "plt.figure(figsize=(12,12))\n",
    "plt.imshow(wordcloud,interpolation='bilinear')\n",
    "plt.axis('off')\n",
    "plt.show()"
   ]
  },
  {
   "cell_type": "markdown",
   "metadata": {
    "colab_type": "text",
    "id": "nv-rOa9EjsAT"
   },
   "source": [
    "# Step3. Model Preparation"
   ]
  },
  {
   "cell_type": "code",
   "execution_count": 15,
   "metadata": {
    "colab": {
     "base_uri": "https://localhost:8080/",
     "height": 68
    },
    "colab_type": "code",
    "executionInfo": {
     "elapsed": 867,
     "status": "ok",
     "timestamp": 1585244713309,
     "user": {
      "displayName": "Qiuchen Wang",
      "photoUrl": "",
      "userId": "05364527419333773535"
     },
     "user_tz": 240
    },
    "id": "uF-51xjdjm3-",
    "outputId": "3978534e-cb47-4d59-9e74-ced3547de485"
   },
   "outputs": [
    {
     "data": {
      "text/plain": [
       "Negative    71428\n",
       "Positive    59241\n",
       "Name: sentiment, dtype: int64"
      ]
     },
     "execution_count": 15,
     "metadata": {},
     "output_type": "execute_result"
    }
   ],
   "source": [
    "#drop the data in Sentiment.csv which sentiment is Neutral\n",
    "tweets.drop(tweets[tweets.sentiment == 'Neutral'].index, inplace=True)\n",
    "tweets['sentiment'].value_counts()"
   ]
  },
  {
   "cell_type": "markdown",
   "metadata": {
    "colab_type": "text",
    "id": "t57tGWumj0SB"
   },
   "source": [
    "## 3.1 Split into training data and test data"
   ]
  },
  {
   "cell_type": "code",
   "execution_count": 182,
   "metadata": {
    "colab": {},
    "colab_type": "code",
    "id": "byBxVu53jwn9"
   },
   "outputs": [],
   "source": [
    "#split the dataset into features and targets.\n",
    "X = tweets[['text']]\n",
    "y_raw = tweets['sentiment']\n",
    "#creating labelEncoder\n",
    "le = preprocessing.LabelEncoder()\n",
    "# Converting string labels into numbers.\n",
    "y=le.fit_transform(y_raw)"
   ]
  },
  {
   "cell_type": "code",
   "execution_count": 183,
   "metadata": {
    "colab": {},
    "colab_type": "code",
    "id": "-7L-_TsZj3ud"
   },
   "outputs": [],
   "source": [
    "#split into training data and testing data\n",
    "X_train, X_test, y_train, y_test = train_test_split(X,y,test_size=0.3,random_state=101)"
   ]
  },
  {
   "cell_type": "code",
   "execution_count": 184,
   "metadata": {
    "colab": {
     "base_uri": "https://localhost:8080/",
     "height": 85
    },
    "colab_type": "code",
    "executionInfo": {
     "elapsed": 1346,
     "status": "ok",
     "timestamp": 1585246777818,
     "user": {
      "displayName": "Qiuchen Wang",
      "photoUrl": "",
      "userId": "05364527419333773535"
     },
     "user_tz": 240
    },
    "id": "Si9ixlZYj6Ih",
    "outputId": "6020fb5b-43a4-4fe1-eea8-77ef7aa760a7"
   },
   "outputs": [
    {
     "name": "stdout",
     "output_type": "stream",
     "text": [
      "(91468, 1)\n",
      "(39201, 1)\n",
      "(91468,)\n",
      "(39201,)\n"
     ]
    }
   ],
   "source": [
    "print(X_train.shape)\n",
    "print(X_test.shape)\n",
    "print(y_train.shape)\n",
    "print(y_test.shape)"
   ]
  },
  {
   "cell_type": "markdown",
   "metadata": {
    "colab_type": "text",
    "id": "hgnAUxWckApb"
   },
   "source": [
    "## 3.2 Use WF to train a learning model"
   ]
  },
  {
   "cell_type": "code",
   "execution_count": 185,
   "metadata": {
    "colab": {
     "base_uri": "https://localhost:8080/",
     "height": 34
    },
    "colab_type": "code",
    "executionInfo": {
     "elapsed": 2671,
     "status": "ok",
     "timestamp": 1585246784369,
     "user": {
      "displayName": "Qiuchen Wang",
      "photoUrl": "",
      "userId": "05364527419333773535"
     },
     "user_tz": 240
    },
    "id": "WpAv2q-nj8SQ",
    "outputId": "97c05183-0f6d-49bf-8522-24543cc1fe77"
   },
   "outputs": [
    {
     "name": "stdout",
     "output_type": "stream",
     "text": [
      "(91468, 1000)\n"
     ]
    }
   ],
   "source": [
    "vectorizer1 = CountVectorizer(max_features = 1000,min_df=7, max_df=0.8)\n",
    "vectorizer1.fit(X_train['text'])\n",
    "X_train_wf = vectorizer1.transform(X_train['text'])\n",
    "print(X_train_wf.shape)"
   ]
  },
  {
   "cell_type": "code",
   "execution_count": 186,
   "metadata": {
    "colab": {},
    "colab_type": "code",
    "id": "Q-3eLID9kGRW"
   },
   "outputs": [],
   "source": [
    "X_test_wf = vectorizer1.transform(X_test['text'])"
   ]
  },
  {
   "cell_type": "markdown",
   "metadata": {
    "colab_type": "text",
    "id": "2wemRx9BkNc8"
   },
   "source": [
    "## 3.3 Use TFIDF to train a learning model"
   ]
  },
  {
   "cell_type": "code",
   "execution_count": 42,
   "metadata": {
    "colab": {
     "base_uri": "https://localhost:8080/",
     "height": 34
    },
    "colab_type": "code",
    "executionInfo": {
     "elapsed": 1867,
     "status": "ok",
     "timestamp": 1585207653786,
     "user": {
      "displayName": "Qiuchen Wang",
      "photoUrl": "",
      "userId": "05364527419333773535"
     },
     "user_tz": 240
    },
    "id": "0O0Us8v8j8W5",
    "outputId": "9209167b-449e-4bb4-e257-5d53a5a0c9c8"
   },
   "outputs": [
    {
     "name": "stdout",
     "output_type": "stream",
     "text": [
      "(91468, 1000)\n"
     ]
    }
   ],
   "source": [
    "vectorizer2 = TfidfVectorizer (max_features=1000, min_df=7, max_df=0.8)\n",
    "vectorizer2.fit(X_train['text'])\n",
    "X_train_tfidf = vectorizer2.transform(X_train['text'])\n",
    "print(X_train_tfidf.shape)"
   ]
  },
  {
   "cell_type": "code",
   "execution_count": 43,
   "metadata": {
    "colab": {},
    "colab_type": "code",
    "id": "LvPTP8a-j8aC"
   },
   "outputs": [],
   "source": [
    "X_test_tfidf = vectorizer2.transform(X_test['text'])"
   ]
  },
  {
   "cell_type": "markdown",
   "metadata": {
    "colab_type": "text",
    "id": "aMCQhvchkaH9"
   },
   "source": [
    "# Step4. Model Implementation"
   ]
  },
  {
   "cell_type": "markdown",
   "metadata": {
    "colab_type": "text",
    "id": "Jc0sW3FHkd_D"
   },
   "source": [
    "Implement 6 different classification algorithms: Logistic Regression, k-NN, Naive Bayes, SVM, decision trees and Random Forest.\n",
    "\n",
    "**Logistic Regression:**\n",
    "\n",
    "pros: Convenient probability scores for observations; Simple to implement\n",
    "\n",
    "cons: Poor performance on non-linear data\n",
    "\n",
    "**K-NN:**\n",
    "\n",
    "pros: Simple to understand and impelment; One Hyper Parameter; Constantly evolving model\n",
    "\n",
    "cons: Slow for large datasets; Does not work very well on datasets with large number of features\n",
    "\n",
    "**Naive Bayes:**\n",
    "\n",
    "pros:Computationally fast and simple to implement; Good performance with high dimensional data\n",
    "\n",
    "cons:Relies on independence assumption and will perform badly if this assumption is not met\n",
    "\n",
    "**SVM:**\n",
    "\n",
    "pros: Handle high dimensional data well; Performs well when classes are separable; Outliers have less impact\n",
    "\n",
    "cons: Slow (For larger dataset, it requires a large amount of time to process); Poor performance with overlapped classes; Susceptible to overfitting/training issues depending on kernel\n",
    "\n",
    "**Decision Trees:**\n",
    "\n",
    "pros: Missing data can be handled; Easy to explain\n",
    "\n",
    "cons:Prone to overfitting; Large trees can be difficult to interpret\n",
    "\n",
    "**Ramdom Forest:**\n",
    "\n",
    "pros: Random forest can decorrelate trees; Handling of huge amount of data; Missing data can be handled \n",
    "\n",
    "cons: Not as easy to visually interpret"
   ]
  },
  {
   "cell_type": "markdown",
   "metadata": {
    "colab_type": "text",
    "id": "Yl1vDUFkkila"
   },
   "source": [
    "## 4.1 WF"
   ]
  },
  {
   "cell_type": "markdown",
   "metadata": {
    "colab_type": "text",
    "id": "q5BgeXCxkj2l"
   },
   "source": [
    "## 4.1.1 Train model on training data"
   ]
  },
  {
   "cell_type": "code",
   "execution_count": 21,
   "metadata": {
    "colab": {},
    "colab_type": "code",
    "id": "1fmlgyrTj8cx"
   },
   "outputs": [],
   "source": [
    "#kfolder cross validation \n",
    "resultDF_wf = pd.DataFrame(columns=['model','hyperparams','train_acc','train_std','test_acc','test_std'])\n",
    "df_i = 0"
   ]
  },
  {
   "cell_type": "code",
   "execution_count": 22,
   "metadata": {
    "colab": {},
    "colab_type": "code",
    "id": "ER_NSh_7j8fV"
   },
   "outputs": [],
   "source": [
    "#set up cross validation\n",
    "def run_kfold_wf(typ, model,hyperparams='default', verbose=0):\n",
    "    global df_i\n",
    "    \n",
    "    # Initialize scaler\n",
    "    scaler = StandardScaler(with_mean=False)\n",
    "    \n",
    "    # Update model hyperparameters if given\n",
    "    if hyperparams is not 'default':\n",
    "        model.set_params(**hyperparams)\n",
    "    \n",
    "    X = X_train_wf\n",
    "    Y = y_train\n",
    "    \n",
    "    kf = KFold(n_splits=5) #n_splits previously n_folds\n",
    "    \n",
    "    # Initialize storage vectors\n",
    "    test_outcomes = []\n",
    "    train_outcomes=[]\n",
    "    fold = 0\n",
    "    \n",
    "    for train_index, test_index in kf.split(X):\n",
    "        fold += 1\n",
    "        X_train, X_test = X[train_index], X[test_index]\n",
    "        Y_train, Y_test = Y[train_index], Y[test_index]\n",
    "        \n",
    "        # Scale data\n",
    "        X_train = scaler.fit_transform(X_train)\n",
    "        X_test = scaler.transform(X_test)\n",
    "        \n",
    "       # Fit to training set\n",
    "        model.fit(X_train, Y_train)\n",
    "        \n",
    "        # Make predictions on testing set and training set\n",
    "        test_predictions = model.predict(X_test)\n",
    "        train_predictions = model.predict(X_train)\n",
    "\n",
    "        \n",
    "        # Calculate the accuracy of test set and train set(coefficient of determination)\n",
    "        acc_train = accuracy_score(Y_train, train_predictions)\n",
    "        acc_test = accuracy_score(Y_test, test_predictions)\n",
    "\n",
    "        test_outcomes.append(acc_test)\n",
    "        train_outcomes.append(acc_train)\n",
    "        \n",
    "        # Print fold accuracy if verbose level 2\n",
    "        if verbose == 2:\n",
    "            print(\"Fold {0} test accuracy: {1}\".format(fold, acc_test))   \n",
    "    \n",
    "    # Print average accuracy and standard deviation of accuracy if verbose level 1\n",
    "    if verbose == 1:\n",
    "        mean_outcome = np.mean(test_outcomes)\n",
    "        mean_train_outcome=np.mean(train_outcomes)\n",
    "        print(\"train accuracy: {0}\".format(mean_train_outcome)) \n",
    "        print(\"test accuracy: {0}\".format(mean_outcome)) \n",
    "    \n",
    "    # Update dataframe\n",
    "    resultDF_wf.loc[df_i, 'model'] = typ\n",
    "    resultDF_wf.loc[df_i, 'hyperparams'] = str(hyperparams)\n",
    "    resultDF_wf.loc[df_i, 'test_acc'] = np.mean(test_outcomes)\n",
    "    resultDF_wf.loc[df_i, 'test_std'] = np.std(test_outcomes)\n",
    "    resultDF_wf.loc[df_i, 'train_acc'] = np.mean(train_outcomes)\n",
    "    resultDF_wf.loc[df_i, 'train_std'] = np.std(train_outcomes)\n",
    "    df_i += 1                                         \n",
    "        \n",
    "    # Return average testing accuracy, and fitted model\n",
    "    return np.mean(test_outcomes), model"
   ]
  },
  {
   "cell_type": "code",
   "execution_count": 23,
   "metadata": {
    "colab": {},
    "colab_type": "code",
    "id": "iErPcA7fj8mq"
   },
   "outputs": [],
   "source": [
    "models = {\n",
    "    'lr': LogisticRegression(),\n",
    "    'knn': KNeighborsClassifier(),\n",
    "    'nb': MultinomialNB(),\n",
    "    'svm': SVC(),\n",
    "    'dt': DecisionTreeClassifier(),\n",
    "    'rf': RandomForestClassifier()\n",
    "}"
   ]
  },
  {
   "cell_type": "code",
   "execution_count": 24,
   "metadata": {
    "colab": {
     "base_uri": "https://localhost:8080/",
     "height": 391
    },
    "colab_type": "code",
    "executionInfo": {
     "elapsed": 5457459,
     "status": "ok",
     "timestamp": 1585181164867,
     "user": {
      "displayName": "Qiuchen Wang",
      "photoUrl": "",
      "userId": "05364527419333773535"
     },
     "user_tz": 240
    },
    "id": "8yecnsj9j8tc",
    "outputId": "831d6c6d-8547-464e-cf11-d3f342503b26"
   },
   "outputs": [
    {
     "name": "stdout",
     "output_type": "stream",
     "text": [
      "Fitting lr model\n",
      "Fold 1 test accuracy: 0.7191975511096534\n",
      "Fold 2 test accuracy: 0.7172843555264021\n",
      "Fold 3 test accuracy: 0.7179949710287526\n",
      "Fold 4 test accuracy: 0.7078663969824524\n",
      "Fold 5 test accuracy: 0.7106543486579566\n",
      "Fitting knn model\n",
      "Fold 1 test accuracy: 0.622772493713786\n",
      "Fold 2 test accuracy: 0.6277468022302394\n",
      "Fold 3 test accuracy: 0.624357712911337\n",
      "Fold 4 test accuracy: 0.6304597386978625\n",
      "Fold 5 test accuracy: 0.6260318154485323\n",
      "Fitting nb model\n",
      "Fold 1 test accuracy: 0.6951459494916366\n",
      "Fold 2 test accuracy: 0.6996829561604898\n",
      "Fold 3 test accuracy: 0.6929594402536351\n",
      "Fold 4 test accuracy: 0.687093423713989\n",
      "Fold 5 test accuracy: 0.6886787295686875\n",
      "Fitting svm model\n",
      "Fold 1 test accuracy: 0.7070077621077949\n",
      "Fold 2 test accuracy: 0.712911337050399\n",
      "Fold 3 test accuracy: 0.7140592544003499\n",
      "Fold 4 test accuracy: 0.7053517739025857\n",
      "Fold 5 test accuracy: 0.7057344339364784\n",
      "Fitting dt model\n",
      "Fold 1 test accuracy: 0.6666120039357166\n",
      "Fold 2 test accuracy: 0.6630042636930141\n",
      "Fold 3 test accuracy: 0.665682737509566\n",
      "Fold 4 test accuracy: 0.6608538785327721\n",
      "Fold 5 test accuracy: 0.6620565243535779\n",
      "Fitting rf model\n",
      "Fold 1 test accuracy: 0.6882037826609817\n",
      "Fold 2 test accuracy: 0.6868372143872308\n",
      "Fold 3 test accuracy: 0.6903902918989833\n",
      "Fold 4 test accuracy: 0.6838134805663368\n",
      "Fold 5 test accuracy: 0.6828294976220413\n"
     ]
    }
   ],
   "source": [
    "for name, m in models.items():\n",
    "    print (\"Fitting \" + name + \" model\")\n",
    "    _, models[name] = run_kfold_wf(name, m, 'default',2)"
   ]
  },
  {
   "cell_type": "code",
   "execution_count": 25,
   "metadata": {
    "colab": {
     "base_uri": "https://localhost:8080/",
     "height": 266
    },
    "colab_type": "code",
    "executionInfo": {
     "elapsed": 362,
     "status": "ok",
     "timestamp": 1585181170326,
     "user": {
      "displayName": "Qiuchen Wang",
      "photoUrl": "",
      "userId": "05364527419333773535"
     },
     "user_tz": 240
    },
    "id": "h-lX6CJ_j8wi",
    "outputId": "4d5baf80-1fe6-40bd-8e64-b6af476ad35f"
   },
   "outputs": [
    {
     "data": {
      "text/html": [
       "<div>\n",
       "<style scoped>\n",
       "    .dataframe tbody tr th:only-of-type {\n",
       "        vertical-align: middle;\n",
       "    }\n",
       "\n",
       "    .dataframe tbody tr th {\n",
       "        vertical-align: top;\n",
       "    }\n",
       "\n",
       "    .dataframe thead th {\n",
       "        text-align: right;\n",
       "    }\n",
       "</style>\n",
       "<table border=\"1\" class=\"dataframe\">\n",
       "  <thead>\n",
       "    <tr style=\"text-align: right;\">\n",
       "      <th></th>\n",
       "      <th>hyperparams</th>\n",
       "      <th>train_acc</th>\n",
       "      <th>train_std</th>\n",
       "      <th>test_acc</th>\n",
       "      <th>test_std</th>\n",
       "    </tr>\n",
       "    <tr>\n",
       "      <th>model</th>\n",
       "      <th></th>\n",
       "      <th></th>\n",
       "      <th></th>\n",
       "      <th></th>\n",
       "      <th></th>\n",
       "    </tr>\n",
       "  </thead>\n",
       "  <tbody>\n",
       "    <tr>\n",
       "      <th>lr</th>\n",
       "      <td>default</td>\n",
       "      <td>0.725142</td>\n",
       "      <td>0.001416</td>\n",
       "      <td>0.714600</td>\n",
       "      <td>0.004490</td>\n",
       "    </tr>\n",
       "    <tr>\n",
       "      <th>svm</th>\n",
       "      <td>default</td>\n",
       "      <td>0.823925</td>\n",
       "      <td>0.000803</td>\n",
       "      <td>0.709013</td>\n",
       "      <td>0.003710</td>\n",
       "    </tr>\n",
       "    <tr>\n",
       "      <th>nb</th>\n",
       "      <td>default</td>\n",
       "      <td>0.700330</td>\n",
       "      <td>0.000845</td>\n",
       "      <td>0.692712</td>\n",
       "      <td>0.004526</td>\n",
       "    </tr>\n",
       "    <tr>\n",
       "      <th>rf</th>\n",
       "      <td>default</td>\n",
       "      <td>0.910947</td>\n",
       "      <td>0.000485</td>\n",
       "      <td>0.686415</td>\n",
       "      <td>0.002786</td>\n",
       "    </tr>\n",
       "    <tr>\n",
       "      <th>dt</th>\n",
       "      <td>default</td>\n",
       "      <td>0.922519</td>\n",
       "      <td>0.000342</td>\n",
       "      <td>0.663642</td>\n",
       "      <td>0.002176</td>\n",
       "    </tr>\n",
       "    <tr>\n",
       "      <th>knn</th>\n",
       "      <td>default</td>\n",
       "      <td>0.728151</td>\n",
       "      <td>0.001175</td>\n",
       "      <td>0.626274</td>\n",
       "      <td>0.002671</td>\n",
       "    </tr>\n",
       "  </tbody>\n",
       "</table>\n",
       "</div>"
      ],
      "text/plain": [
       "      hyperparams  train_acc  train_std  test_acc  test_std\n",
       "model                                                      \n",
       "lr        default   0.725142   0.001416  0.714600  0.004490\n",
       "svm       default   0.823925   0.000803  0.709013  0.003710\n",
       "nb        default   0.700330   0.000845  0.692712  0.004526\n",
       "rf        default   0.910947   0.000485  0.686415  0.002786\n",
       "dt        default   0.922519   0.000342  0.663642  0.002176\n",
       "knn       default   0.728151   0.001175  0.626274  0.002671"
      ]
     },
     "execution_count": 25,
     "metadata": {},
     "output_type": "execute_result"
    }
   ],
   "source": [
    "resultDF_wf = resultDF_wf.sort_values('test_acc',ascending=False).reset_index(drop=True)\n",
    "resultDF_wf.groupby('model').first().sort_values('test_acc',ascending=False)"
   ]
  },
  {
   "cell_type": "markdown",
   "metadata": {
    "colab_type": "text",
    "id": "1brQI072HiQH"
   },
   "source": [
    "### 4.1.2 Hyperparameter Tuning"
   ]
  },
  {
   "cell_type": "code",
   "execution_count": 26,
   "metadata": {
    "colab": {},
    "colab_type": "code",
    "id": "qMSv_Xr3uGlI"
   },
   "outputs": [],
   "source": [
    "best_wf = pd.DataFrame(columns=['accuracy','f1_score','model'])"
   ]
  },
  {
   "cell_type": "code",
   "execution_count": 28,
   "metadata": {
    "colab": {
     "base_uri": "https://localhost:8080/",
     "height": 51
    },
    "colab_type": "code",
    "executionInfo": {
     "elapsed": 514,
     "status": "ok",
     "timestamp": 1585216027043,
     "user": {
      "displayName": "Qiuchen Wang",
      "photoUrl": "",
      "userId": "05364527419333773535"
     },
     "user_tz": 240
    },
    "id": "gkzubCJxhu6K",
    "outputId": "5d3ebec3-7913-49dd-c333-2d2cf1c3a0c7"
   },
   "outputs": [
    {
     "name": "stdout",
     "output_type": "stream",
     "text": [
      "    New best lr model: 0.7152664195408018\n",
      "30% testing data accuracy: 0.7128644677431698\n",
      "30% testing f1_score: 0.6957508919883232\n"
     ]
    }
   ],
   "source": [
    "#Logistic regression\n",
    "for C in [0.001,0.01,0.05,0.1,0.5,1,10,100]:\n",
    "    for solver in ['newton-cg','lbfgs','liblinear','sag']: \n",
    "        model = LogisticRegression(C=C, solver=solver)\n",
    "        best_model = model\n",
    "        name = 'lr' \n",
    "        verbose = 1   \n",
    "\n",
    "        # Get current best accuracy for model from the results dataframe\n",
    "        best_acc = resultDF_wf[resultDF_wf['model'] == name]['test_acc'].max()\n",
    "        params = {'C':C,'solver':solver}\n",
    "            \n",
    "        # Cross validate model with selected hyperparams using the function we generated earlier\n",
    "        acc,model = run_kfold_wf(name, model, params, 0)\n",
    "                    \n",
    "        # Update best model if it satisfies our optimizing metric\n",
    "        if acc > best_acc:\n",
    "            if verbose == 1:\n",
    "                print ('    New best ' +  name + ' model: ' + str(acc))\n",
    "                best_model = model\n",
    "#use best model to predict the 30% X_test data\n",
    "best_model.fit(X_train_wf, y_train)\n",
    "best_lr_pred = best_model.predict(X_test_wf)\n",
    "acc_lr_wf = accuracy_score(y_test,best_lr_pred)\n",
    "f1_lr_wf = f1_score(y_test,best_lr_pred)\n",
    "print('30% testing data accuracy:',acc_lr_wf)\n",
    "print('30% testing f1_score:',f1_lr_wf)\n",
    "#save the outcome of 30% testing data \n",
    "best_wf.loc[0, 'accuracy'] = acc_lr_wf\n",
    "best_wf.loc[0,'f1_score'] = f1_lr_wf\n",
    "best_wf.loc[0,'model'] = 'lr'"
   ]
  },
  {
   "cell_type": "code",
   "execution_count": 29,
   "metadata": {
    "colab": {
     "base_uri": "https://localhost:8080/",
     "height": 51
    },
    "colab_type": "code",
    "executionInfo": {
     "elapsed": 29713,
     "status": "ok",
     "timestamp": 1585216064730,
     "user": {
      "displayName": "Qiuchen Wang",
      "photoUrl": "",
      "userId": "05364527419333773535"
     },
     "user_tz": 240
    },
    "id": "ufDtdXNAl1vr",
    "outputId": "7da71e3e-129c-40a0-996e-ceef1a8222b5"
   },
   "outputs": [
    {
     "name": "stdout",
     "output_type": "stream",
     "text": [
      "    New best knn model: 0.6863055351368408\n",
      "30% testing data accuracy: 0.666819723986633\n",
      "30% testing f1_score: 0.588098016336056\n"
     ]
    }
   ],
   "source": [
    "# K-NN\n",
    "# Beacause K-NN runs slow for large datasets, so I can't choose a variety of k values\n",
    "for n_neighbors in [2,10,50,100]: \n",
    "    model = KNeighborsClassifier(n_neighbors=n_neighbors)\n",
    "    best_model = model\n",
    "    name = 'knn' \n",
    "    verbose = 1   \n",
    "\n",
    "    # Get current best accuracy for model from the results dataframe\n",
    "    best_acc = resultDF_wf[resultDF_wf['model'] == name]['test_acc'].max()\n",
    "            \n",
    "    params = {'n_neighbors':n_neighbors}\n",
    "            \n",
    "    # Cross validate model with selected hyperparams using the function we generated earlier\n",
    "    acc,model = run_kfold_wf(name, model, params, 0)\n",
    "                    \n",
    "    # Update best model if it satisfies our optimizing metric\n",
    "    if acc > best_acc:\n",
    "        if verbose == 1:\n",
    "            print ('    New best ' +  name + ' model: ' + str(acc))\n",
    "            best_model = model\n",
    "#use best model to predict the 30% X_test data\n",
    "best_model.fit(X_train_wf, y_train)\n",
    "best_knn_pred = best_model.predict(X_test_wf)\n",
    "acc_knn_wf = accuracy_score(y_test,best_knn_pred)\n",
    "f1_knn_wf = f1_score(y_test,best_knn_pred)\n",
    "print('30% testing data accuracy:',acc_knn_wf)\n",
    "print('30% testing f1_score:',f1_knn_wf)\n",
    "#save the outcome of 30% testing data \n",
    "best_wf.loc[1,'accuracy'] = acc_knn_wf\n",
    "best_wf.loc[1,'f1_score'] = f1_knn_wf\n",
    "best_wf.loc[1,'model'] = 'knn'"
   ]
  },
  {
   "cell_type": "code",
   "execution_count": 30,
   "metadata": {
    "colab": {
     "base_uri": "https://localhost:8080/",
     "height": 51
    },
    "colab_type": "code",
    "executionInfo": {
     "elapsed": 493,
     "status": "ok",
     "timestamp": 1585215177090,
     "user": {
      "displayName": "Qiuchen Wang",
      "photoUrl": "",
      "userId": "05364527419333773535"
     },
     "user_tz": 240
    },
    "id": "XjMT54wN8jho",
    "outputId": "4a193cba-ef30-4ca8-9f70-3296900aa43b"
   },
   "outputs": [
    {
     "name": "stdout",
     "output_type": "stream",
     "text": [
      "    New best nb model: 0.692733965527703\n",
      "    New best nb model: 0.6927667643615442\n",
      "30% testing data accuracy: 0.6943445320272442\n",
      "30% testing f1_score: 0.6754428733950918\n"
     ]
    }
   ],
   "source": [
    "# Naive Bayes\n",
    "for alpha in [0.5,1,1.5,2,6,10]:\n",
    "    for fit_prior in [True, False]:\n",
    "        verbose =1 \n",
    "        model = MultinomialNB(alpha=alpha,fit_prior=fit_prior)\n",
    "        best_model = model\n",
    "        name = 'nb'    \n",
    "\n",
    "        # Get current best accuracy for model from the results dataframe\n",
    "        best_acc = resultDF_wf[resultDF_wf['model'] == name]['test_acc'].max()\n",
    "        params = {'alpha':alpha,'fit_prior':fit_prior}\n",
    "        \n",
    "        # Cross validate model with selected hyperparams using the function we generated earlier\n",
    "        acc,model = run_kfold_wf(name, model, params, 0)\n",
    "                \n",
    "        # Update best model if it satisfies our optimizing metric\n",
    "        if acc > best_acc:\n",
    "            if verbose == 1:\n",
    "                print ('    New best ' +  name + ' model: ' + str(acc))\n",
    "                best_model = model\n",
    "\n",
    "#use best model to predict the 30% X_test data\n",
    "best_model.fit(X_train_wf, y_train)\n",
    "best_nb_pred = best_model.predict(X_test_wf)\n",
    "acc_nb_wf = accuracy_score(y_test,best_nb_pred)\n",
    "f1_nb_wf = f1_score(y_test,best_nb_pred)\n",
    "print('30% testing data accuracy:',acc_nb_wf)\n",
    "print('30% testing f1_score:',f1_nb_wf)\n",
    "#save the outcome of 30% testing data \n",
    "best_wf.loc[2, 'accuracy'] = acc_nb_wf\n",
    "best_wf.loc[2,'f1_score'] = f1_nb_wf\n",
    "best_wf.loc[2,'model'] = 'nb'"
   ]
  },
  {
   "cell_type": "code",
   "execution_count": 31,
   "metadata": {
    "colab": {
     "base_uri": "https://localhost:8080/",
     "height": 51
    },
    "colab_type": "code",
    "executionInfo": {
     "elapsed": 250422,
     "status": "ok",
     "timestamp": 1585215472468,
     "user": {
      "displayName": "Qiuchen Wang",
      "photoUrl": "",
      "userId": "05364527419333773535"
     },
     "user_tz": 240
    },
    "id": "nuUY48zA-wTP",
    "outputId": "10c3785a-6cff-44f7-c7c4-57accdc465d6"
   },
   "outputs": [
    {
     "name": "stdout",
     "output_type": "stream",
     "text": [
      "30% testing data accuracy: 0.6345501390270656\n",
      "30% testing f1_score: 0.42410355362598495\n"
     ]
    }
   ],
   "source": [
    "#SVM\n",
    "#Since SVM hyperparamers are C and gamma, but since implement a SVM model will use nearly 2 hours, I only select a few values in C\n",
    "for C in [0.1,0.5,1,10]: \n",
    "    model = SVC(C = C)\n",
    "    best_model = model\n",
    "    name = 'svm' \n",
    "    verbose = 1   \n",
    "\n",
    "    # Get current best accuracy for model from the results dataframe\n",
    "    best_acc = resultDF_wf[resultDF_wf['model'] == name]['test_acc'].max()\n",
    "            \n",
    "    params = {'C':C}\n",
    "            \n",
    "    # Cross validate model with selected hyperparams using the function we generated earlier\n",
    "    acc,model = run_kfold_wf(name, model, params, 0)\n",
    "                    \n",
    "    # Update best model if it satisfies our optimizing metric\n",
    "    if acc > best_acc:\n",
    "        if verbose == 1:\n",
    "            print ('    New best ' +  name + ' model: ' + str(acc))\n",
    "            best_model = model\n",
    "#use best model to predict the 30% X_test data\n",
    "best_model.fit(X_train_wf, y_train)\n",
    "best_svm_pred = best_model.predict(X_test_wf)\n",
    "acc_svm_wf = accuracy_score(y_test,best_svm_pred)\n",
    "f1_svm_wf = f1_score(y_test,best_svm_pred)\n",
    "print('30% testing data accuracy:',acc_svm_wf)\n",
    "print('30% testing f1_score:',f1_svm_wf)\n",
    "#save the outcome of 30% testing data \n",
    "best_wf.loc[3, 'accuracy'] = acc_svm_wf\n",
    "best_wf.loc[3, 'f1_score'] = f1_svm_wf\n",
    "best_wf.loc[3,'model'] = 'svm'"
   ]
  },
  {
   "cell_type": "code",
   "execution_count": 32,
   "metadata": {
    "colab": {
     "base_uri": "https://localhost:8080/",
     "height": 51
    },
    "colab_type": "code",
    "executionInfo": {
     "elapsed": 3683,
     "status": "ok",
     "timestamp": 1585215550083,
     "user": {
      "displayName": "Qiuchen Wang",
      "photoUrl": "",
      "userId": "05364527419333773535"
     },
     "user_tz": 240
    },
    "id": "HCCmXMSwWYC1",
    "outputId": "cb177a5d-4a4d-41fa-93d8-aca4e614b230"
   },
   "outputs": [
    {
     "name": "stdout",
     "output_type": "stream",
     "text": [
      "30% testing data accuracy: 0.5634805234560343\n",
      "30% testing f1_score: 0.10828556539864513\n"
     ]
    }
   ],
   "source": [
    "#decision tree\n",
    "for max_features in ['auto','sqrt']: \n",
    "    for max_depth in [2,3,4,5,6]:\n",
    "        model = DecisionTreeClassifier(max_features=max_features, max_depth=max_depth)\n",
    "        best_model = model\n",
    "        name = 'dt'\n",
    "        verbose = 1    \n",
    "\n",
    "        # Get current best accuracy for model from the results dataframe\n",
    "        best_acc = resultDF_wf[resultDF_wf['model'] == name]['test_acc'].max()\n",
    "            \n",
    "        params = {'max_features':max_features,'max_depth': max_depth}\n",
    "            \n",
    "        # Cross validate model with selected hyperparams using the function we generated earlier\n",
    "        acc,model = run_kfold_wf(name, model, params, 0)\n",
    "                    \n",
    "        # Update best model if it satisfies our optimizing metric\n",
    "        if acc > best_acc:\n",
    "            if verbose == 1:\n",
    "                print ('    New best ' +  name + ' model: ' + str(acc))\n",
    "                best_model = model\n",
    "#use best model to predict the 30% X_test data\n",
    "best_model.fit(X_train_wf, y_train)\n",
    "best_dt_pred = best_model.predict(X_test_wf)\n",
    "acc_dt_wf = accuracy_score(y_test,best_dt_pred)\n",
    "f1_dt_wf = f1_score(y_test,best_dt_pred)\n",
    "print('30% testing data accuracy:',acc_dt_wf)\n",
    "print('30% testing f1_score:',f1_dt_wf)\n",
    "#save the outcome of 30% testing data \n",
    "best_wf.loc[4, 'accuracy'] = acc_dt_wf\n",
    "best_wf.loc[4,'f1_score'] = f1_dt_wf\n",
    "best_wf.loc[4,'model'] = 'dt'"
   ]
  },
  {
   "cell_type": "code",
   "execution_count": 34,
   "metadata": {
    "colab": {
     "base_uri": "https://localhost:8080/",
     "height": 51
    },
    "colab_type": "code",
    "executionInfo": {
     "elapsed": 48698,
     "status": "ok",
     "timestamp": 1585215920544,
     "user": {
      "displayName": "Qiuchen Wang",
      "photoUrl": "",
      "userId": "05364527419333773535"
     },
     "user_tz": 240
    },
    "id": "_qIPZ_T_W7aw",
    "outputId": "87e67ebf-4387-4b61-b49c-3045be2ee5d4"
   },
   "outputs": [
    {
     "name": "stdout",
     "output_type": "stream",
     "text": [
      "30% testing data accuracy: 0.567536542435142\n",
      "30% testing f1_score: 0.11217596229379419\n"
     ]
    }
   ],
   "source": [
    "#random forrest\n",
    "for n_estimators in [50,150,200]: \n",
    "    for max_depth in [None,1,5]:\n",
    "        model = RandomForestClassifier(max_features=max_features, max_depth=max_depth)\n",
    "        best_model = model\n",
    "        name = 'rf'\n",
    "        verbose = 1    \n",
    "\n",
    "        # Get current best accuracy for model from the results dataframe\n",
    "        best_acc = resultDF_wf[resultDF_wf['model'] == name]['test_acc'].max()\n",
    "            \n",
    "        params = {'max_features':max_features,'max_depth': max_depth}\n",
    "            \n",
    "        # Cross validate model with selected hyperparams using the function we generated earlier\n",
    "        acc,model = run_kfold_wf(name, model, params, 0)\n",
    "                    \n",
    "        # Update best model if it satisfies our optimizing metric\n",
    "        if acc > best_acc:\n",
    "            if verbose == 1:\n",
    "                print ('    New best ' +  name + ' model: ' + str(acc))\n",
    "                best_model = model\n",
    "#use best model to predict the 30% X_test data\n",
    "best_model.fit(X_train_wf, y_train)\n",
    "best_rf_pred = best_model.predict(X_test_wf)\n",
    "acc_rf_wf = accuracy_score(y_test,best_rf_pred)\n",
    "f1_rf_wf = f1_score(y_test,best_rf_pred)\n",
    "print('30% testing data accuracy:',acc_rf_wf)\n",
    "print('30% testing f1_score:',f1_rf_wf)\n",
    "#save the outcome of 30% testing data \n",
    "best_wf.loc[5, 'accuracy'] = acc_rf_wf\n",
    "best_wf.loc[5,'f1_score'] = f1_rf_wf\n",
    "best_wf.loc[5,'model'] = 'rf'"
   ]
  },
  {
   "cell_type": "code",
   "execution_count": 35,
   "metadata": {
    "colab": {},
    "colab_type": "code",
    "id": "Za9o6xCLoQ8j"
   },
   "outputs": [],
   "source": [
    "resultDF_wf = resultDF_wf.sort_values('test_acc',ascending=False).reset_index(drop=True)\n",
    "resultDF_wf_1 = resultDF_wf.groupby('model').first().sort_values('test_acc',ascending=False)"
   ]
  },
  {
   "cell_type": "code",
   "execution_count": 36,
   "metadata": {
    "colab": {
     "base_uri": "https://localhost:8080/",
     "height": 235
    },
    "colab_type": "code",
    "executionInfo": {
     "elapsed": 473,
     "status": "ok",
     "timestamp": 1585203111864,
     "user": {
      "displayName": "Qiuchen Wang",
      "photoUrl": "",
      "userId": "05364527419333773535"
     },
     "user_tz": 240
    },
    "id": "Stj74W1OdEY4",
    "outputId": "64e7a0db-7aa6-4cf1-d0cc-5ff147ed6c78"
   },
   "outputs": [
    {
     "data": {
      "text/html": [
       "<div>\n",
       "<style scoped>\n",
       "    .dataframe tbody tr th:only-of-type {\n",
       "        vertical-align: middle;\n",
       "    }\n",
       "\n",
       "    .dataframe tbody tr th {\n",
       "        vertical-align: top;\n",
       "    }\n",
       "\n",
       "    .dataframe thead th {\n",
       "        text-align: right;\n",
       "    }\n",
       "</style>\n",
       "<table border=\"1\" class=\"dataframe\">\n",
       "  <thead>\n",
       "    <tr style=\"text-align: right;\">\n",
       "      <th></th>\n",
       "      <th>model</th>\n",
       "      <th>hyperparams</th>\n",
       "      <th>train_acc</th>\n",
       "      <th>train_std</th>\n",
       "      <th>test_acc</th>\n",
       "      <th>test_std</th>\n",
       "      <th>accuracy</th>\n",
       "      <th>f1_score</th>\n",
       "    </tr>\n",
       "  </thead>\n",
       "  <tbody>\n",
       "    <tr>\n",
       "      <th>0</th>\n",
       "      <td>lr</td>\n",
       "      <td>{'C': 0.001, 'solver': 'newton-cg'}</td>\n",
       "      <td>0.724592</td>\n",
       "      <td>0.001311</td>\n",
       "      <td>0.715266</td>\n",
       "      <td>0.004648</td>\n",
       "      <td>0.712864</td>\n",
       "      <td>0.695751</td>\n",
       "    </tr>\n",
       "    <tr>\n",
       "      <th>1</th>\n",
       "      <td>svm</td>\n",
       "      <td>default</td>\n",
       "      <td>0.823925</td>\n",
       "      <td>0.000803</td>\n",
       "      <td>0.709013</td>\n",
       "      <td>0.003710</td>\n",
       "      <td>0.63455</td>\n",
       "      <td>0.424104</td>\n",
       "    </tr>\n",
       "    <tr>\n",
       "      <th>2</th>\n",
       "      <td>nb</td>\n",
       "      <td>{'alpha': 10, 'fit_prior': True}</td>\n",
       "      <td>0.700341</td>\n",
       "      <td>0.000814</td>\n",
       "      <td>0.692767</td>\n",
       "      <td>0.004556</td>\n",
       "      <td>0.694345</td>\n",
       "      <td>0.675443</td>\n",
       "    </tr>\n",
       "    <tr>\n",
       "      <th>3</th>\n",
       "      <td>rf</td>\n",
       "      <td>default</td>\n",
       "      <td>0.910947</td>\n",
       "      <td>0.000485</td>\n",
       "      <td>0.686415</td>\n",
       "      <td>0.002786</td>\n",
       "      <td>0.567537</td>\n",
       "      <td>0.112176</td>\n",
       "    </tr>\n",
       "    <tr>\n",
       "      <th>4</th>\n",
       "      <td>knn</td>\n",
       "      <td>{'n_neighbors': 100}</td>\n",
       "      <td>0.698321</td>\n",
       "      <td>0.001139</td>\n",
       "      <td>0.686306</td>\n",
       "      <td>0.002251</td>\n",
       "      <td>0.66682</td>\n",
       "      <td>0.588098</td>\n",
       "    </tr>\n",
       "    <tr>\n",
       "      <th>5</th>\n",
       "      <td>dt</td>\n",
       "      <td>default</td>\n",
       "      <td>0.922519</td>\n",
       "      <td>0.000342</td>\n",
       "      <td>0.663642</td>\n",
       "      <td>0.002176</td>\n",
       "      <td>0.563481</td>\n",
       "      <td>0.108286</td>\n",
       "    </tr>\n",
       "  </tbody>\n",
       "</table>\n",
       "</div>"
      ],
      "text/plain": [
       "  model                          hyperparams  train_acc  train_std  test_acc  \\\n",
       "0    lr  {'C': 0.001, 'solver': 'newton-cg'}   0.724592   0.001311  0.715266   \n",
       "1   svm                              default   0.823925   0.000803  0.709013   \n",
       "2    nb     {'alpha': 10, 'fit_prior': True}   0.700341   0.000814  0.692767   \n",
       "3    rf                              default   0.910947   0.000485  0.686415   \n",
       "4   knn                 {'n_neighbors': 100}   0.698321   0.001139  0.686306   \n",
       "5    dt                              default   0.922519   0.000342  0.663642   \n",
       "\n",
       "   test_std  accuracy  f1_score  \n",
       "0  0.004648  0.712864  0.695751  \n",
       "1  0.003710   0.63455  0.424104  \n",
       "2  0.004556  0.694345  0.675443  \n",
       "3  0.002786  0.567537  0.112176  \n",
       "4  0.002251   0.66682  0.588098  \n",
       "5  0.002176  0.563481  0.108286  "
      ]
     },
     "execution_count": 36,
     "metadata": {},
     "output_type": "execute_result"
    }
   ],
   "source": [
    "resultDF_wf_2= pd.merge(resultDF_wf_1, best_wf, how='left', on='model')\n",
    "resultDF_wf_2"
   ]
  },
  {
   "cell_type": "markdown",
   "metadata": {},
   "source": [
    "Based on the accuracy_score on the validation folder of 5-folder cross validation and the accuracy_score and f1_score of the testing data, the best model of WF features is logistic regression."
   ]
  },
  {
   "cell_type": "markdown",
   "metadata": {
    "colab_type": "text",
    "id": "rxYUq9XhYMC_"
   },
   "source": [
    "# 4.2 TFIDF"
   ]
  },
  {
   "cell_type": "markdown",
   "metadata": {
    "colab_type": "text",
    "id": "K-woT5XWYbW2"
   },
   "source": [
    "## 4.2.1 Train model on training data"
   ]
  },
  {
   "cell_type": "code",
   "execution_count": 0,
   "metadata": {
    "colab": {},
    "colab_type": "code",
    "id": "0U4jDsEmj82D"
   },
   "outputs": [],
   "source": [
    "resultDF_tfidf = pd.DataFrame(columns=['model','hyperparams','train_acc','train_std','test_acc','test_std'])\n",
    "df_idx = 0"
   ]
  },
  {
   "cell_type": "code",
   "execution_count": 44,
   "metadata": {
    "colab": {},
    "colab_type": "code",
    "id": "5QyT-P5oj8kQ"
   },
   "outputs": [],
   "source": [
    "#set up cross validation\n",
    "def run_kfold(typ, model,hyperparams='default', verbose=0):\n",
    "    global df_idx\n",
    "    \n",
    "    # Initialize scaler\n",
    "    scaler = StandardScaler(with_mean=False)\n",
    "    \n",
    "    # Update model hyperparameters if given\n",
    "    if hyperparams is not 'default':\n",
    "        model.set_params(**hyperparams)\n",
    "    \n",
    "    X = X_train_tfidf\n",
    "    Y = y_train\n",
    "    \n",
    "    kf = KFold(n_splits=5) #n_splits previously n_folds\n",
    "    \n",
    "    # Initialize storage vectors\n",
    "    test_outcomes = []\n",
    "    train_outcomes=[]\n",
    "    fold = 0\n",
    "    \n",
    "    for train_index, test_index in kf.split(X):\n",
    "        fold += 1\n",
    "        X_train, X_test = X[train_index], X[test_index]\n",
    "        Y_train, Y_test = Y[train_index], Y[test_index]\n",
    "        \n",
    "        # Scale data\n",
    "        X_train = scaler.fit_transform(X_train)\n",
    "        X_test = scaler.transform(X_test)\n",
    "        \n",
    "       # Fit to training set\n",
    "        model.fit(X_train, Y_train)\n",
    "        \n",
    "        # Make predictions on testing set and training set\n",
    "        test_predictions = model.predict(X_test)\n",
    "        train_predictions = model.predict(X_train)\n",
    "\n",
    "        \n",
    "        # Calculate the accuracy of test set and train set(coefficient of determination)\n",
    "        acc_train = accuracy_score(Y_train, train_predictions)\n",
    "        acc_test = accuracy_score(Y_test, test_predictions)\n",
    "\n",
    "        test_outcomes.append(acc_test)\n",
    "        train_outcomes.append(acc_train)\n",
    "        \n",
    "        # Print fold accuracy if verbose level 2\n",
    "        if verbose == 2:\n",
    "            print(\"Fold {0} test accuracy: {1}\".format(fold, acc_test))   \n",
    "    \n",
    "    # Print average accuracy and standard deviation of accuracy if verbose level 1\n",
    "    if verbose == 1:\n",
    "        mean_outcome = np.mean(test_outcomes)\n",
    "        mean_train_outcome=np.mean(train_outcomes)\n",
    "        print(\"train accuracy: {0}\".format(mean_train_outcome)) \n",
    "        print(\"test accuracy: {0}\".format(mean_outcome)) \n",
    "    \n",
    "    # Update dataframe\n",
    "    resultDF_tfidf.loc[df_idx, 'model'] = typ\n",
    "    resultDF_tfidf.loc[df_idx, 'hyperparams'] = str(hyperparams)\n",
    "    resultDF_tfidf.loc[df_idx, 'test_acc'] = np.mean(test_outcomes)\n",
    "    resultDF_tfidf.loc[df_idx, 'test_std'] = np.std(test_outcomes)\n",
    "    resultDF_tfidf.loc[df_idx, 'train_acc'] = np.mean(train_outcomes)\n",
    "    resultDF_tfidf.loc[df_idx, 'train_std'] = np.std(train_outcomes)\n",
    "    df_idx += 1                                         \n",
    "        \n",
    "    # Return average testing accuracy, and fitted model\n",
    "    return np.mean(test_outcomes), model"
   ]
  },
  {
   "cell_type": "code",
   "execution_count": 0,
   "metadata": {
    "colab": {},
    "colab_type": "code",
    "id": "wEadg7caj8i3"
   },
   "outputs": [],
   "source": [
    "models = {\n",
    "    'lr': LogisticRegression(),\n",
    "    'knn': KNeighborsClassifier(),\n",
    "    'nb': MultinomialNB(),\n",
    "    'svm': SVC(),\n",
    "    'dt': DecisionTreeClassifier(),\n",
    "    'rf': RandomForestClassifier()\n",
    "}"
   ]
  },
  {
   "cell_type": "code",
   "execution_count": 0,
   "metadata": {
    "colab": {
     "base_uri": "https://localhost:8080/",
     "height": 629
    },
    "colab_type": "code",
    "executionInfo": {
     "elapsed": 5670366,
     "status": "ok",
     "timestamp": 1585213390106,
     "user": {
      "displayName": "Qiuchen Wang",
      "photoUrl": "",
      "userId": "05364527419333773535"
     },
     "user_tz": 240
    },
    "id": "nhg7zbzHeU5N",
    "outputId": "a2e2e7d4-10a9-41c3-f5c7-9e789bb049f5"
   },
   "outputs": [
    {
     "name": "stdout",
     "output_type": "stream",
     "text": [
      "Fitting lr model\n",
      "Fold 1 test accuracy: 0.7185415983382529\n",
      "Fold 2 test accuracy: 0.7178309828359025\n",
      "Fold 3 test accuracy: 0.7177763201049524\n",
      "Fold 4 test accuracy: 0.7096703657136609\n",
      "Fold 5 test accuracy: 0.7085770513311103\n",
      "Fitting knn model\n",
      "Fold 1 test accuracy: 0.6231004700994862\n",
      "Fold 2 test accuracy: 0.6268721985350388\n",
      "Fold 3 test accuracy: 0.6222805291352356\n",
      "Fold 4 test accuracy: 0.6306784015743727\n",
      "Fold 5 test accuracy: 0.6246651724703438\n",
      "Fitting nb model\n",
      "Fold 1 test accuracy: 0.6935607302940855\n",
      "Fold 2 test accuracy: 0.6992456543128894\n",
      "Fold 3 test accuracy: 0.6940526948726359\n",
      "Fold 4 test accuracy: 0.6881320723774121\n",
      "Fold 5 test accuracy: 0.6888973924451977\n",
      "Fitting svm model\n",
      "Fold 1 test accuracy: 0.708592981305346\n",
      "Fold 2 test accuracy: 0.7081010167267957\n",
      "Fold 3 test accuracy: 0.7108341532742976\n",
      "Fold 4 test accuracy: 0.7034931394522494\n",
      "Fold 5 test accuracy: 0.7039851309243973\n",
      "Fitting dt model\n",
      "Fold 1 test accuracy: 0.6696731168689187\n",
      "Fold 2 test accuracy: 0.6679785722094675\n",
      "Fold 3 test accuracy: 0.6696731168689187\n",
      "Fold 4 test accuracy: 0.6648444760290821\n",
      "Fold 5 test accuracy: 0.6674137648280764\n",
      "Fitting rf model\n",
      "Fold 1 test accuracy: 0.705695856564994\n",
      "Fold 2 test accuracy: 0.7048212528697934\n",
      "Fold 3 test accuracy: 0.708483655843446\n",
      "Fold 4 test accuracy: 0.6963865959656699\n",
      "Fold 5 test accuracy: 0.702837150822719\n"
     ]
    }
   ],
   "source": [
    "for name, m in models.items():\n",
    "    print (\"Fitting \" + name + \" model\")\n",
    "    _, models[name] = run_kfold(name, m, 'default',2)"
   ]
  },
  {
   "cell_type": "code",
   "execution_count": 64,
   "metadata": {
    "colab": {
     "base_uri": "https://localhost:8080/",
     "height": 235
    },
    "colab_type": "code",
    "executionInfo": {
     "elapsed": 251,
     "status": "ok",
     "timestamp": 1585237059304,
     "user": {
      "displayName": "Qiuchen Wang",
      "photoUrl": "",
      "userId": "05364527419333773535"
     },
     "user_tz": 240
    },
    "id": "BmXLXJh_ez0b",
    "outputId": "75fd6d3b-61e7-4593-b227-492d5ba8afb3"
   },
   "outputs": [
    {
     "data": {
      "text/html": [
       "<div>\n",
       "<style scoped>\n",
       "    .dataframe tbody tr th:only-of-type {\n",
       "        vertical-align: middle;\n",
       "    }\n",
       "\n",
       "    .dataframe tbody tr th {\n",
       "        vertical-align: top;\n",
       "    }\n",
       "\n",
       "    .dataframe thead th {\n",
       "        text-align: right;\n",
       "    }\n",
       "</style>\n",
       "<table border=\"1\" class=\"dataframe\">\n",
       "  <thead>\n",
       "    <tr style=\"text-align: right;\">\n",
       "      <th></th>\n",
       "      <th>model</th>\n",
       "      <th>hyperparams</th>\n",
       "      <th>train_acc</th>\n",
       "      <th>train_std</th>\n",
       "      <th>test_acc</th>\n",
       "      <th>test_std</th>\n",
       "    </tr>\n",
       "  </thead>\n",
       "  <tbody>\n",
       "    <tr>\n",
       "      <th>0</th>\n",
       "      <td>lr</td>\n",
       "      <td>default</td>\n",
       "      <td>0.725953</td>\n",
       "      <td>0.00107929</td>\n",
       "      <td>0.714479</td>\n",
       "      <td>0.00439474</td>\n",
       "    </tr>\n",
       "    <tr>\n",
       "      <th>1</th>\n",
       "      <td>svm</td>\n",
       "      <td>default</td>\n",
       "      <td>0.824824</td>\n",
       "      <td>0.000771176</td>\n",
       "      <td>0.707001</td>\n",
       "      <td>0.0028227</td>\n",
       "    </tr>\n",
       "    <tr>\n",
       "      <th>2</th>\n",
       "      <td>rf</td>\n",
       "      <td>default</td>\n",
       "      <td>0.921962</td>\n",
       "      <td>0.000339922</td>\n",
       "      <td>0.703645</td>\n",
       "      <td>0.00405806</td>\n",
       "    </tr>\n",
       "    <tr>\n",
       "      <th>3</th>\n",
       "      <td>nb</td>\n",
       "      <td>default</td>\n",
       "      <td>0.700507</td>\n",
       "      <td>0.00113394</td>\n",
       "      <td>0.692778</td>\n",
       "      <td>0.00401776</td>\n",
       "    </tr>\n",
       "    <tr>\n",
       "      <th>4</th>\n",
       "      <td>dt</td>\n",
       "      <td>default</td>\n",
       "      <td>0.921992</td>\n",
       "      <td>0.000342742</td>\n",
       "      <td>0.667917</td>\n",
       "      <td>0.00178131</td>\n",
       "    </tr>\n",
       "    <tr>\n",
       "      <th>5</th>\n",
       "      <td>knn</td>\n",
       "      <td>default</td>\n",
       "      <td>0.732546</td>\n",
       "      <td>0.00130027</td>\n",
       "      <td>0.625519</td>\n",
       "      <td>0.00301717</td>\n",
       "    </tr>\n",
       "  </tbody>\n",
       "</table>\n",
       "</div>"
      ],
      "text/plain": [
       "  model hyperparams train_acc    train_std  test_acc    test_std\n",
       "0    lr     default  0.725953   0.00107929  0.714479  0.00439474\n",
       "1   svm     default  0.824824  0.000771176  0.707001   0.0028227\n",
       "2    rf     default  0.921962  0.000339922  0.703645  0.00405806\n",
       "3    nb     default  0.700507   0.00113394  0.692778  0.00401776\n",
       "4    dt     default  0.921992  0.000342742  0.667917  0.00178131\n",
       "5   knn     default  0.732546   0.00130027  0.625519  0.00301717"
      ]
     },
     "execution_count": 64,
     "metadata": {
      "tags": []
     },
     "output_type": "execute_result"
    }
   ],
   "source": [
    "resultDF_tfidf = resultDF_tfidf.sort_values('test_acc',ascending=False).reset_index(drop=True)\n",
    "resultDF_tfidf.groupby('model').first().sort_values('test_acc',ascending=False)"
   ]
  },
  {
   "cell_type": "markdown",
   "metadata": {
    "colab_type": "text",
    "id": "M8TE2Ky_P2FA"
   },
   "source": [
    "### 4.2.2 Hyperparameter Tuning\n",
    "\n"
   ]
  },
  {
   "cell_type": "code",
   "execution_count": 45,
   "metadata": {
    "colab": {},
    "colab_type": "code",
    "id": "WmB_GiBHP0ID"
   },
   "outputs": [],
   "source": [
    "best_tf = pd.DataFrame(columns=['model','accuracy','f1_score'])"
   ]
  },
  {
   "cell_type": "code",
   "execution_count": 46,
   "metadata": {
    "colab": {
     "base_uri": "https://localhost:8080/",
     "height": 51
    },
    "colab_type": "code",
    "executionInfo": {
     "elapsed": 109843,
     "status": "ok",
     "timestamp": 1585216941180,
     "user": {
      "displayName": "Qiuchen Wang",
      "photoUrl": "",
      "userId": "05364527419333773535"
     },
     "user_tz": 240
    },
    "id": "RBPrQdbvQLxC",
    "outputId": "11fd54b4-0933-4561-b679-05813b672377"
   },
   "outputs": [
    {
     "name": "stdout",
     "output_type": "stream",
     "text": [
      "30% testing data accuracy: 0.7136552638963292\n",
      "30% testing f1_score: 0.6954280287613621\n"
     ]
    }
   ],
   "source": [
    "# Logistic regression\n",
    "for C in [0.001,0.01,0.05,0.1,0.5,1,10,100]:\n",
    "    for solver in ['newton-cg','lbfgs','liblinear','sag']: \n",
    "        model = LogisticRegression(C=C, solver=solver)\n",
    "        best_model = model\n",
    "        name = 'lr' \n",
    "        verbose = 1   \n",
    "\n",
    "        # Get current best accuracy for model from the results dataframe\n",
    "        best_acc = resultDF_tfidf[resultDF_tfidf['model'] == name]['test_acc'].max()\n",
    "        params = {'C':C,'solver':solver}\n",
    "            \n",
    "        # Cross validate model with selected hyperparams using the function we generated earlier\n",
    "        acc,model = run_kfold(name, model, params, 0)\n",
    "                    \n",
    "        # Update best model if it satisfies our optimizing metric\n",
    "        if acc > best_acc:\n",
    "            if verbose == 1:\n",
    "                print ('    New best ' +  name + ' model: ' + str(acc))\n",
    "                best_model = model\n",
    "#use best model to predict the 30% X_test data\n",
    "best_model.fit(X_train_tfidf, y_train)\n",
    "best_lr_pred = best_model.predict(X_test_tfidf)\n",
    "acc_lr_tf = accuracy_score(y_test,best_lr_pred)\n",
    "f1_lr_tf = f1_score(y_test,best_lr_pred)\n",
    "print('30% testing data accuracy:',acc_lr_tf)\n",
    "print('30% testing f1_score:',f1_lr_tf)\n",
    "#save the outcome of 30% testing data \n",
    "best_tf.loc[0, 'accuracy'] = acc_lr_tf\n",
    "best_tf.loc[0,'f1_score'] = f1_lr_tf\n",
    "best_tf.loc[0,'model'] = 'lr'"
   ]
  },
  {
   "cell_type": "code",
   "execution_count": 47,
   "metadata": {
    "colab": {
     "base_uri": "https://localhost:8080/",
     "height": 51
    },
    "colab_type": "code",
    "executionInfo": {
     "elapsed": 271,
     "status": "ok",
     "timestamp": 1585218932731,
     "user": {
      "displayName": "Qiuchen Wang",
      "photoUrl": "",
      "userId": "05364527419333773535"
     },
     "user_tz": 240
    },
    "id": "Uu7-Zc1DR_z-",
    "outputId": "34d355d7-6a89-4f35-bfd8-03480e0a299c"
   },
   "outputs": [
    {
     "name": "stdout",
     "output_type": "stream",
     "text": [
      "30% testing data accuracy: 0.6471518583709599\n",
      "30% testing f1_score: 0.49374130737134914\n"
     ]
    }
   ],
   "source": [
    "# K-NN\n",
    "# Beacause K-NN runs slow for large datasets, so I can't choose a variety of k values\n",
    "for n_neighbors in [2,10,25,50,100]: \n",
    "    model = KNeighborsClassifier(n_neighbors=n_neighbors)\n",
    "    best_model = model\n",
    "    name = 'knn' \n",
    "    verbose = 1   \n",
    "\n",
    "    # Get current best accuracy for model from the results dataframe\n",
    "    best_acc = resultDF_tfidf[resultDF_tfidf['model'] == name]['test_acc'].max()\n",
    "            \n",
    "    params = {'n_neighbors':n_neighbors}\n",
    "            \n",
    "    # Cross validate model with selected hyperparams using the function we generated earlier\n",
    "    acc,model = run_kfold(name, model, params, 0)\n",
    "                    \n",
    "    # Update best model if it satisfies our optimizing metric\n",
    "    if acc > best_acc:\n",
    "        if verbose == 1:\n",
    "            print ('    New best ' +  name + ' model: ' + str(acc))\n",
    "            best_model = model\n",
    "#use best model to predict the 30% X_test data\n",
    "best_model.fit(X_train_tfidf, y_train)\n",
    "best_knn_pred = best_model.predict(X_test_tfidf)\n",
    "acc_knn_tf = accuracy_score(y_test,best_knn_pred)\n",
    "f1_knn_tf = f1_score(y_test,best_knn_pred)\n",
    "print('30% testing data accuracy:',acc_knn_tf)\n",
    "print('30% testing f1_score:',f1_knn_tf)\n",
    "#save the outcome of 30% testing data \n",
    "best_tf.loc[1,'accuracy'] = acc_knn_tf\n",
    "best_tf.loc[1,'f1_score'] = f1_knn_tf\n",
    "best_tf.loc[1,'model'] = 'knn'"
   ]
  },
  {
   "cell_type": "code",
   "execution_count": 49,
   "metadata": {
    "colab": {
     "base_uri": "https://localhost:8080/",
     "height": 51
    },
    "colab_type": "code",
    "executionInfo": {
     "elapsed": 2848,
     "status": "ok",
     "timestamp": 1585218951521,
     "user": {
      "displayName": "Qiuchen Wang",
      "photoUrl": "",
      "userId": "05364527419333773535"
     },
     "user_tz": 240
    },
    "id": "6-Vpu0VjUDg2",
    "outputId": "9964242f-c2f3-486f-a47f-e53ad3f1271d"
   },
   "outputs": [
    {
     "name": "stdout",
     "output_type": "stream",
     "text": [
      "30% testing data accuracy: 0.7045993724649882\n",
      "30% testing f1_score: 0.650193330111165\n"
     ]
    }
   ],
   "source": [
    "# Naive Bayes\n",
    "for alpha in [0.5,1,1.5,2,6,10]:\n",
    "    for fit_prior in [True, False]:\n",
    "        verbose =1 \n",
    "        model = MultinomialNB(alpha=alpha,fit_prior=fit_prior)\n",
    "        best_model = model\n",
    "        name = 'nb'    \n",
    "\n",
    "        # Get current best accuracy for model from the results dataframe\n",
    "        best_acc = resultDF_tfidf[resultDF_tfidf['model'] == name]['test_acc'].max()\n",
    "        params = {'alpha':alpha,'fit_prior':fit_prior}\n",
    "        \n",
    "        # Cross validate model with selected hyperparams using the function we generated earlier\n",
    "        acc,model = run_kfold(name, model, params, 0)\n",
    "                \n",
    "        # Update best model if it satisfies our optimizing metric\n",
    "        if acc > best_acc:\n",
    "            if verbose == 1:\n",
    "                print ('    New best ' +  name + ' model: ' + str(acc))\n",
    "                best_model = model\n",
    "#use best model to predict the 30% X_test data\n",
    "best_model.fit(X_train_tfidf, y_train)\n",
    "best_nb_pred = best_model.predict(X_test_tfidf)\n",
    "acc_nb_tf = accuracy_score(y_test,best_nb_pred)\n",
    "f1_nb_tf = f1_score(y_test,best_nb_pred)\n",
    "print('30% testing data accuracy:',acc_nb_tf)\n",
    "print('30% testing f1_score:',f1_nb_tf)\n",
    "#save the outcome of 30% testing data \n",
    "best_tf.loc[2, 'accuracy'] = acc_nb_tf\n",
    "best_tf.loc[2,'f1_score'] = f1_nb_tf\n",
    "best_tf.loc[2,'model'] = 'nb'"
   ]
  },
  {
   "cell_type": "code",
   "execution_count": 50,
   "metadata": {
    "colab": {
     "base_uri": "https://localhost:8080/",
     "height": 51
    },
    "colab_type": "code",
    "executionInfo": {
     "elapsed": 216620,
     "status": "ok",
     "timestamp": 1585234174771,
     "user": {
      "displayName": "Qiuchen Wang",
      "photoUrl": "",
      "userId": "05364527419333773535"
     },
     "user_tz": 240
    },
    "id": "ZbnaEIkNafsr",
    "outputId": "cf20dfdf-4c5f-444a-f301-f18e4eddf328"
   },
   "outputs": [
    {
     "name": "stdout",
     "output_type": "stream",
     "text": [
      "30% testing data accuracy: 0.5573072115507257\n",
      "30% testing f1_score: 0.04606420404573439\n"
     ]
    }
   ],
   "source": [
    "#SVM\n",
    "#Since SVM hyperparamers are C and gamma, but since implement a SVM model will use nearly 2 hours, I only select a few values in C\n",
    "for C in [0.1,0.5,1,10]: \n",
    "    model = SVC(C = C)\n",
    "    best_model = model\n",
    "    name = 'svm' \n",
    "    verbose = 1   \n",
    "\n",
    "    # Get current best accuracy for model from the results dataframe\n",
    "    best_acc = resultDF_tfidf[resultDF_tfidf['model'] == name]['test_acc'].max()\n",
    "            \n",
    "    params = {'C':C}\n",
    "            \n",
    "    # Cross validate model with selected hyperparams using the function we generated earlier\n",
    "    acc,model = run_kfold(name, model, params, 0)\n",
    "                    \n",
    "    # Update best model if it satisfies our optimizing metric\n",
    "    if acc > best_acc:\n",
    "        if verbose == 1:\n",
    "            print ('    New best ' +  name + ' model: ' + str(acc))\n",
    "            best_model = model\n",
    "#use best model to predict the 30% X_test data\n",
    "best_model.fit(X_train_tfidf, y_train)\n",
    "best_svm_pred = best_model.predict(X_test_tfidf)\n",
    "acc_svm_tf = accuracy_score(y_test,best_svm_pred)\n",
    "f1_svm_tf = f1_score(y_test,best_svm_pred)\n",
    "print('30% testing data accuracy:',acc_svm_tf)\n",
    "print('30% testing f1_score:',f1_svm_tf)\n",
    "#save the outcome of 30% testing data \n",
    "best_tf.loc[3, 'accuracy'] = acc_svm_tf\n",
    "best_tf.loc[3, 'f1_score'] = f1_svm_tf\n",
    "best_tf.loc[3, 'model'] = 'svm'"
   ]
  },
  {
   "cell_type": "code",
   "execution_count": 51,
   "metadata": {
    "colab": {
     "base_uri": "https://localhost:8080/",
     "height": 51
    },
    "colab_type": "code",
    "executionInfo": {
     "elapsed": 2536,
     "status": "ok",
     "timestamp": 1585234279307,
     "user": {
      "displayName": "Qiuchen Wang",
      "photoUrl": "",
      "userId": "05364527419333773535"
     },
     "user_tz": 240
    },
    "id": "lxwYmw7FbtCm",
    "outputId": "a8f6ecf2-c50f-4394-bee4-f08eaf320b2d"
   },
   "outputs": [
    {
     "name": "stdout",
     "output_type": "stream",
     "text": [
      "30% testing data accuracy: 0.664523864187138\n",
      "30% testing f1_score: 0.6402013624798227\n"
     ]
    }
   ],
   "source": [
    "#decision tree\n",
    "for max_features in ['auto','sqrt']: \n",
    "    for max_depth in [None,2,3,4,5,6]:\n",
    "        model = DecisionTreeClassifier(max_features=max_features, max_depth=max_depth)\n",
    "        best_model = model\n",
    "        name = 'dt'\n",
    "        verbose = 1    \n",
    "\n",
    "        # Get current best accuracy for model from the results dataframe\n",
    "        best_acc = resultDF_tfidf[resultDF_tfidf['model'] == name]['test_acc'].max()\n",
    "            \n",
    "        params = {'max_features':max_features,'max_depth': max_depth}\n",
    "            \n",
    "        # Cross validate model with selected hyperparams using the function we generated earlier\n",
    "        acc,model = run_kfold(name, model, params, 0)\n",
    "                    \n",
    "        # Update best model if it satisfies our optimizing metric\n",
    "        if acc > best_acc:\n",
    "            if verbose == 1:\n",
    "                print ('    New best ' +  name + ' model: ' + str(acc))\n",
    "                best_model = model\n",
    "#use best model to predict the 30% X_test data\n",
    "best_model.fit(X_train_tfidf, y_train)\n",
    "best_dt_pred = best_model.predict(X_test_tfidf)\n",
    "acc_dt_tf = accuracy_score(y_test,best_dt_pred)\n",
    "f1_dt_tf = f1_score(y_test,best_dt_pred)\n",
    "print('30% testing data accuracy:',acc_dt_tf)\n",
    "print('30% testing f1_score:',f1_dt_tf)\n",
    "#save the outcome of 30% testing data \n",
    "best_tf.loc[4, 'accuracy'] = acc_dt_tf\n",
    "best_tf.loc[4,'f1_score'] = f1_dt_tf\n",
    "best_tf.loc[4, 'model'] = 'dt'"
   ]
  },
  {
   "cell_type": "code",
   "execution_count": 52,
   "metadata": {
    "colab": {
     "base_uri": "https://localhost:8080/",
     "height": 102
    },
    "colab_type": "code",
    "executionInfo": {
     "elapsed": 2231659,
     "status": "ok",
     "timestamp": 1585236524056,
     "user": {
      "displayName": "Qiuchen Wang",
      "photoUrl": "",
      "userId": "05364527419333773535"
     },
     "user_tz": 240
    },
    "id": "g1t0ZkDNcpJk",
    "outputId": "65c1d517-d097-4e72-c198-1c140c5a4514"
   },
   "outputs": [
    {
     "name": "stdout",
     "output_type": "stream",
     "text": [
      "30% testing data accuracy: 0.6942424938139333\n",
      "30% testing f1_score: 0.6669815514558791\n"
     ]
    }
   ],
   "source": [
    "#random forrest\n",
    "for n_estimators in [50,150,200]: \n",
    "    for max_depth in [None,1,5]:\n",
    "        model = RandomForestClassifier(max_features=max_features, max_depth=max_depth)\n",
    "        best_model = model\n",
    "        name = 'rf'\n",
    "        verbose = 1    \n",
    "\n",
    "        # Get current best accuracy for model from the results dataframe\n",
    "        best_acc = resultDF_tfidf[resultDF_tfidf['model'] == name]['test_acc'].max()\n",
    "            \n",
    "        params = {'max_features':max_features,'max_depth': max_depth}\n",
    "            \n",
    "        # Cross validate model with selected hyperparams using the function we generated earlier\n",
    "        acc,model = run_kfold(name, model, params, 0)\n",
    "                    \n",
    "        # Update best model if it satisfies our optimizing metric\n",
    "        if acc > best_acc:\n",
    "            if verbose == 1:\n",
    "                print ('    New best ' +  name + ' model: ' + str(acc))\n",
    "                best_model = model\n",
    "#use best model to predict the 30% X_test data\n",
    "best_model.fit(X_train_tfidf, y_train)\n",
    "best_rf_pred = best_model.predict(X_test_tfidf)\n",
    "acc_rf_tf = accuracy_score(y_test,best_rf_pred)\n",
    "f1_rf_tf = f1_score(y_test,best_rf_pred)\n",
    "print('30% testing data accuracy:',acc_rf_tf)\n",
    "print('30% testing f1_score:',f1_rf_tf)\n",
    "#save the outcome of 30% testing data \n",
    "best_tf.loc[5, 'accuracy'] = acc_rf_tf\n",
    "best_tf.loc[5,'f1_score'] = f1_rf_tf\n",
    "best_tf.loc[5, 'model'] = 'rf'"
   ]
  },
  {
   "cell_type": "code",
   "execution_count": 54,
   "metadata": {},
   "outputs": [],
   "source": [
    "resultDF_tfidf = resultDF_tfidf.sort_values('test_acc',ascending=False).reset_index(drop=True)\n",
    "resultDF_tfidf_1 = resultDF_tfidf.groupby('model').first().sort_values('test_acc',ascending=False)"
   ]
  },
  {
   "cell_type": "code",
   "execution_count": 55,
   "metadata": {},
   "outputs": [
    {
     "data": {
      "text/html": [
       "<div>\n",
       "<style scoped>\n",
       "    .dataframe tbody tr th:only-of-type {\n",
       "        vertical-align: middle;\n",
       "    }\n",
       "\n",
       "    .dataframe tbody tr th {\n",
       "        vertical-align: top;\n",
       "    }\n",
       "\n",
       "    .dataframe thead th {\n",
       "        text-align: right;\n",
       "    }\n",
       "</style>\n",
       "<table border=\"1\" class=\"dataframe\">\n",
       "  <thead>\n",
       "    <tr style=\"text-align: right;\">\n",
       "      <th></th>\n",
       "      <th>model</th>\n",
       "      <th>hyperparams</th>\n",
       "      <th>train_acc</th>\n",
       "      <th>train_std</th>\n",
       "      <th>test_acc</th>\n",
       "      <th>test_std</th>\n",
       "      <th>accuracy</th>\n",
       "      <th>f1_score</th>\n",
       "    </tr>\n",
       "  </thead>\n",
       "  <tbody>\n",
       "    <tr>\n",
       "      <th>0</th>\n",
       "      <td>lr</td>\n",
       "      <td>{'C': 10, 'solver': 'sag'}</td>\n",
       "      <td>0.726063</td>\n",
       "      <td>0.001150</td>\n",
       "      <td>0.714610</td>\n",
       "      <td>0.004323</td>\n",
       "      <td>0.713655</td>\n",
       "      <td>0.695428</td>\n",
       "    </tr>\n",
       "    <tr>\n",
       "      <th>1</th>\n",
       "      <td>svm</td>\n",
       "      <td>default</td>\n",
       "      <td>0.824824</td>\n",
       "      <td>0.000771</td>\n",
       "      <td>0.707001</td>\n",
       "      <td>0.002823</td>\n",
       "      <td>0.557307</td>\n",
       "      <td>0.0460642</td>\n",
       "    </tr>\n",
       "    <tr>\n",
       "      <th>2</th>\n",
       "      <td>dt</td>\n",
       "      <td>{'max_features': 'sqrt', 'max_depth': None}</td>\n",
       "      <td>0.921959</td>\n",
       "      <td>0.000340</td>\n",
       "      <td>0.705514</td>\n",
       "      <td>0.003602</td>\n",
       "      <td>0.664524</td>\n",
       "      <td>0.640201</td>\n",
       "    </tr>\n",
       "    <tr>\n",
       "      <th>3</th>\n",
       "      <td>rf</td>\n",
       "      <td>default</td>\n",
       "      <td>0.921962</td>\n",
       "      <td>0.000340</td>\n",
       "      <td>0.703645</td>\n",
       "      <td>0.004058</td>\n",
       "      <td>0.694242</td>\n",
       "      <td>0.666982</td>\n",
       "    </tr>\n",
       "    <tr>\n",
       "      <th>4</th>\n",
       "      <td>nb</td>\n",
       "      <td>{'alpha': 6, 'fit_prior': True}</td>\n",
       "      <td>0.700474</td>\n",
       "      <td>0.001158</td>\n",
       "      <td>0.692800</td>\n",
       "      <td>0.003995</td>\n",
       "      <td>0.704599</td>\n",
       "      <td>0.650193</td>\n",
       "    </tr>\n",
       "    <tr>\n",
       "      <th>5</th>\n",
       "      <td>knn</td>\n",
       "      <td>{'n_neighbors': 100}</td>\n",
       "      <td>0.675020</td>\n",
       "      <td>0.002468</td>\n",
       "      <td>0.661018</td>\n",
       "      <td>0.003156</td>\n",
       "      <td>0.647152</td>\n",
       "      <td>0.493741</td>\n",
       "    </tr>\n",
       "  </tbody>\n",
       "</table>\n",
       "</div>"
      ],
      "text/plain": [
       "  model                                  hyperparams  train_acc  train_std  \\\n",
       "0    lr                   {'C': 10, 'solver': 'sag'}   0.726063   0.001150   \n",
       "1   svm                                      default   0.824824   0.000771   \n",
       "2    dt  {'max_features': 'sqrt', 'max_depth': None}   0.921959   0.000340   \n",
       "3    rf                                      default   0.921962   0.000340   \n",
       "4    nb              {'alpha': 6, 'fit_prior': True}   0.700474   0.001158   \n",
       "5   knn                         {'n_neighbors': 100}   0.675020   0.002468   \n",
       "\n",
       "   test_acc  test_std  accuracy   f1_score  \n",
       "0  0.714610  0.004323  0.713655   0.695428  \n",
       "1  0.707001  0.002823  0.557307  0.0460642  \n",
       "2  0.705514  0.003602  0.664524   0.640201  \n",
       "3  0.703645  0.004058  0.694242   0.666982  \n",
       "4  0.692800  0.003995  0.704599   0.650193  \n",
       "5  0.661018  0.003156  0.647152   0.493741  "
      ]
     },
     "execution_count": 55,
     "metadata": {},
     "output_type": "execute_result"
    }
   ],
   "source": [
    "resultDF_tfidf_2= pd.merge(resultDF_tfidf_1, best_tf, how='left', on='model')\n",
    "resultDF_tfidf_2"
   ]
  },
  {
   "cell_type": "raw",
   "metadata": {},
   "source": [
    "compared with the accuracy_score and f1_score with the results of WF features, the best model is logistic regression with WF features."
   ]
  },
  {
   "cell_type": "markdown",
   "metadata": {
    "colab_type": "text",
    "id": "LhAXkH9SGtKO"
   },
   "source": [
    "# 4.3 Evaluate model on the 2019 Canadian elections data"
   ]
  },
  {
   "cell_type": "code",
   "execution_count": 58,
   "metadata": {
    "colab": {
     "base_uri": "https://localhost:8080/",
     "height": 272
    },
    "colab_type": "code",
    "executionInfo": {
     "elapsed": 812,
     "status": "ok",
     "timestamp": 1585244768577,
     "user": {
      "displayName": "Qiuchen Wang",
      "photoUrl": "",
      "userId": "05364527419333773535"
     },
     "user_tz": 240
    },
    "id": "WwQ9OVbZIdqn",
    "outputId": "0a1b0ad0-1fb7-4da3-961c-68a729a4cac0"
   },
   "outputs": [
    {
     "data": {
      "text/html": [
       "<div>\n",
       "<style scoped>\n",
       "    .dataframe tbody tr th:only-of-type {\n",
       "        vertical-align: middle;\n",
       "    }\n",
       "\n",
       "    .dataframe tbody tr th {\n",
       "        vertical-align: top;\n",
       "    }\n",
       "\n",
       "    .dataframe thead th {\n",
       "        text-align: right;\n",
       "    }\n",
       "</style>\n",
       "<table border=\"1\" class=\"dataframe\">\n",
       "  <thead>\n",
       "    <tr style=\"text-align: right;\">\n",
       "      <th></th>\n",
       "      <th>sentiment</th>\n",
       "      <th>negative_reason</th>\n",
       "      <th>text</th>\n",
       "      <th>Liberal</th>\n",
       "      <th>Conservative</th>\n",
       "      <th>NewDemocratic</th>\n",
       "      <th>None</th>\n",
       "      <th>score</th>\n",
       "    </tr>\n",
       "  </thead>\n",
       "  <tbody>\n",
       "    <tr>\n",
       "      <th>0</th>\n",
       "      <td>Negative</td>\n",
       "      <td>Women Reproductive right and Racism</td>\n",
       "      <td>rosiebarton suggestion  agree  canadian  wome...</td>\n",
       "      <td>None</td>\n",
       "      <td>Conservative</td>\n",
       "      <td>None</td>\n",
       "      <td>None</td>\n",
       "      <td>0</td>\n",
       "    </tr>\n",
       "    <tr>\n",
       "      <th>1</th>\n",
       "      <td>Positive</td>\n",
       "      <td></td>\n",
       "      <td>allwomanspacewalk it's real   space station  ...</td>\n",
       "      <td>None</td>\n",
       "      <td>None</td>\n",
       "      <td>None</td>\n",
       "      <td>None</td>\n",
       "      <td>1</td>\n",
       "    </tr>\n",
       "    <tr>\n",
       "      <th>2</th>\n",
       "      <td>Negative</td>\n",
       "      <td>Economy</td>\n",
       "      <td>brantford it's cost     billion   years  just...</td>\n",
       "      <td>Liberal</td>\n",
       "      <td>None</td>\n",
       "      <td>None</td>\n",
       "      <td>None</td>\n",
       "      <td>0</td>\n",
       "    </tr>\n",
       "    <tr>\n",
       "      <th>3</th>\n",
       "      <td>Positive</td>\n",
       "      <td></td>\n",
       "      <td>canada  canadaelection      canadavotes  elxn...</td>\n",
       "      <td>None</td>\n",
       "      <td>None</td>\n",
       "      <td>None</td>\n",
       "      <td>None</td>\n",
       "      <td>1</td>\n",
       "    </tr>\n",
       "    <tr>\n",
       "      <th>4</th>\n",
       "      <td>Negative</td>\n",
       "      <td>Economy</td>\n",
       "      <td>canada  taxpayers sick   tired hard earned   ...</td>\n",
       "      <td>Liberal</td>\n",
       "      <td>None</td>\n",
       "      <td>None</td>\n",
       "      <td>None</td>\n",
       "      <td>0</td>\n",
       "    </tr>\n",
       "  </tbody>\n",
       "</table>\n",
       "</div>"
      ],
      "text/plain": [
       "  sentiment                      negative_reason  \\\n",
       "0  Negative  Women Reproductive right and Racism   \n",
       "1  Positive                                        \n",
       "2  Negative                              Economy   \n",
       "3  Positive                                        \n",
       "4  Negative                              Economy   \n",
       "\n",
       "                                                text  Liberal  Conservative  \\\n",
       "0   rosiebarton suggestion  agree  canadian  wome...     None  Conservative   \n",
       "1   allwomanspacewalk it's real   space station  ...     None          None   \n",
       "2   brantford it's cost     billion   years  just...  Liberal          None   \n",
       "3   canada  canadaelection      canadavotes  elxn...     None          None   \n",
       "4   canada  taxpayers sick   tired hard earned   ...  Liberal          None   \n",
       "\n",
       "  NewDemocratic  None  score  \n",
       "0          None  None      0  \n",
       "1          None  None      1  \n",
       "2          None  None      0  \n",
       "3          None  None      1  \n",
       "4          None  None      0  "
      ]
     },
     "execution_count": 58,
     "metadata": {},
     "output_type": "execute_result"
    }
   ],
   "source": [
    "#label encoding for election data\n",
    "election['score'] = election['sentiment'].apply(lambda x: 0 if 'Negative' in x else 1)\n",
    "election.head()"
   ]
  },
  {
   "cell_type": "code",
   "execution_count": 59,
   "metadata": {
    "colab": {},
    "colab_type": "code",
    "id": "jeJBi9rbWhr8"
   },
   "outputs": [],
   "source": [
    "#split the dataset into features and targets.\n",
    "X_el = election[['text']]\n",
    "y_el=election['score']"
   ]
  },
  {
   "cell_type": "code",
   "execution_count": 199,
   "metadata": {
    "colab": {},
    "colab_type": "code",
    "id": "gsaJZqfr0snw"
   },
   "outputs": [],
   "source": [
    "#choose the best model of logistic regression with wf\n",
    "#select the whole sentiment set as the training set and the election dataset as test set\n",
    "vectorizer3 = CountVectorizer(max_features = 1000)\n",
    "vectorizer3.fit(X['text'])\n",
    "X_train_sen= vectorizer3.transform(X['text'])\n",
    "y_train_sen=y\n",
    "X_test_el = vectorizer3.transform(X_el['text'])\n",
    "y_test_el = y_el"
   ]
  },
  {
   "cell_type": "code",
   "execution_count": 65,
   "metadata": {
    "colab": {
     "base_uri": "https://localhost:8080/",
     "height": 34
    },
    "colab_type": "code",
    "executionInfo": {
     "elapsed": 3392,
     "status": "ok",
     "timestamp": 1585240214879,
     "user": {
      "displayName": "Qiuchen Wang",
      "photoUrl": "",
      "userId": "05364527419333773535"
     },
     "user_tz": 240
    },
    "id": "bMRWokATpTC6",
    "outputId": "94b6017e-b0fe-4a9f-f971-4c0e795d7757"
   },
   "outputs": [
    {
     "name": "stdout",
     "output_type": "stream",
     "text": [
      "Accuracy: 51.66%\n"
     ]
    }
   ],
   "source": [
    "#predict the sentiment of election data and show the accuracy and classification_report\n",
    "model = LogisticRegression(C= 0.001, solver='newton-cg')\n",
    "model.fit(X_train_sen,y_train_sen)\n",
    "y_el_pred=model.predict(X_test_el)\n",
    "print('Accuracy: %.2f%%' % (accuracy_score(y_test_el, y_el_pred)*100))"
   ]
  },
  {
   "cell_type": "code",
   "execution_count": 66,
   "metadata": {},
   "outputs": [
    {
     "name": "stdout",
     "output_type": "stream",
     "text": [
      "              precision    recall  f1-score   support\n",
      "\n",
      "           0       0.49      0.88      0.63      1006\n",
      "           1       0.64      0.19      0.29      1127\n",
      "\n",
      "   micro avg       0.52      0.52      0.52      2133\n",
      "   macro avg       0.57      0.54      0.46      2133\n",
      "weighted avg       0.57      0.52      0.45      2133\n",
      "\n"
     ]
    }
   ],
   "source": [
    "print(classification_report(y_test_el, y_el_pred))"
   ]
  },
  {
   "cell_type": "code",
   "execution_count": 67,
   "metadata": {},
   "outputs": [
    {
     "name": "stdout",
     "output_type": "stream",
     "text": [
      "[[887 119]\n",
      " [912 215]]\n"
     ]
    }
   ],
   "source": [
    "print(confusion_matrix(y_test_el, y_el_pred))"
   ]
  },
  {
   "cell_type": "code",
   "execution_count": 70,
   "metadata": {},
   "outputs": [
    {
     "data": {
      "text/html": [
       "<div>\n",
       "<style scoped>\n",
       "    .dataframe tbody tr th:only-of-type {\n",
       "        vertical-align: middle;\n",
       "    }\n",
       "\n",
       "    .dataframe tbody tr th {\n",
       "        vertical-align: top;\n",
       "    }\n",
       "\n",
       "    .dataframe thead th {\n",
       "        text-align: right;\n",
       "    }\n",
       "</style>\n",
       "<table border=\"1\" class=\"dataframe\">\n",
       "  <thead>\n",
       "    <tr style=\"text-align: right;\">\n",
       "      <th>Predicted</th>\n",
       "      <th>0</th>\n",
       "      <th>1</th>\n",
       "      <th>All</th>\n",
       "    </tr>\n",
       "    <tr>\n",
       "      <th>True</th>\n",
       "      <th></th>\n",
       "      <th></th>\n",
       "      <th></th>\n",
       "    </tr>\n",
       "  </thead>\n",
       "  <tbody>\n",
       "    <tr>\n",
       "      <th>0</th>\n",
       "      <td>887</td>\n",
       "      <td>119</td>\n",
       "      <td>1006</td>\n",
       "    </tr>\n",
       "    <tr>\n",
       "      <th>1</th>\n",
       "      <td>912</td>\n",
       "      <td>215</td>\n",
       "      <td>1127</td>\n",
       "    </tr>\n",
       "    <tr>\n",
       "      <th>All</th>\n",
       "      <td>1799</td>\n",
       "      <td>334</td>\n",
       "      <td>2133</td>\n",
       "    </tr>\n",
       "  </tbody>\n",
       "</table>\n",
       "</div>"
      ],
      "text/plain": [
       "Predicted     0    1   All\n",
       "True                      \n",
       "0           887  119  1006\n",
       "1           912  215  1127\n",
       "All        1799  334  2133"
      ]
     },
     "execution_count": 70,
     "metadata": {},
     "output_type": "execute_result"
    }
   ],
   "source": [
    "pd.crosstab(y_test_el, y_el_pred, rownames=['True'], colnames=['Predicted'], margins=True)"
   ]
  },
  {
   "cell_type": "raw",
   "metadata": {},
   "source": [
    "The accuracy_score is around 50%, which means the model can't give much efficient information about the election data. The reason is the word frequency of the two dataset is different and to reduce time conplexity, we only select 1000 features from data in Sentiment.csv, however, the election data contains 4305 features, so the model is underfitting.\n",
    "The classification_report shows that the model we train in the Sentiment.csv can predict Positive sentiment much better than Negative Sentiment. The confusion metrix shows that the false negative is high. The reason is that the amount of Negative sentiments in Sentiment.csv is much more than the Positive sentiment, so the algorithm we choose seems more likely to predict Negative. To improve this, we can drop some of the Negative sentiment in training data to reduce the false negative."
   ]
  },
  {
   "cell_type": "markdown",
   "metadata": {},
   "source": [
    "## 4.4 visualize the sentiments for different parties"
   ]
  },
  {
   "cell_type": "code",
   "execution_count": 71,
   "metadata": {},
   "outputs": [
    {
     "data": {
      "text/html": [
       "<div>\n",
       "<style scoped>\n",
       "    .dataframe tbody tr th:only-of-type {\n",
       "        vertical-align: middle;\n",
       "    }\n",
       "\n",
       "    .dataframe tbody tr th {\n",
       "        vertical-align: top;\n",
       "    }\n",
       "\n",
       "    .dataframe thead th {\n",
       "        text-align: right;\n",
       "    }\n",
       "</style>\n",
       "<table border=\"1\" class=\"dataframe\">\n",
       "  <thead>\n",
       "    <tr style=\"text-align: right;\">\n",
       "      <th></th>\n",
       "      <th>sentiment</th>\n",
       "      <th>negative_reason</th>\n",
       "      <th>text</th>\n",
       "      <th>Liberal</th>\n",
       "      <th>Conservative</th>\n",
       "      <th>NewDemocratic</th>\n",
       "      <th>None</th>\n",
       "      <th>score</th>\n",
       "      <th>pred</th>\n",
       "    </tr>\n",
       "  </thead>\n",
       "  <tbody>\n",
       "    <tr>\n",
       "      <th>0</th>\n",
       "      <td>Negative</td>\n",
       "      <td>Women Reproductive right and Racism</td>\n",
       "      <td>rosiebarton suggestion  agree  canadian  wome...</td>\n",
       "      <td>None</td>\n",
       "      <td>Conservative</td>\n",
       "      <td>None</td>\n",
       "      <td>None</td>\n",
       "      <td>0</td>\n",
       "      <td>0</td>\n",
       "    </tr>\n",
       "    <tr>\n",
       "      <th>1</th>\n",
       "      <td>Positive</td>\n",
       "      <td></td>\n",
       "      <td>allwomanspacewalk it's real   space station  ...</td>\n",
       "      <td>None</td>\n",
       "      <td>None</td>\n",
       "      <td>None</td>\n",
       "      <td>None</td>\n",
       "      <td>1</td>\n",
       "      <td>0</td>\n",
       "    </tr>\n",
       "    <tr>\n",
       "      <th>2</th>\n",
       "      <td>Negative</td>\n",
       "      <td>Economy</td>\n",
       "      <td>brantford it's cost     billion   years  just...</td>\n",
       "      <td>Liberal</td>\n",
       "      <td>None</td>\n",
       "      <td>None</td>\n",
       "      <td>None</td>\n",
       "      <td>0</td>\n",
       "      <td>0</td>\n",
       "    </tr>\n",
       "    <tr>\n",
       "      <th>3</th>\n",
       "      <td>Positive</td>\n",
       "      <td></td>\n",
       "      <td>canada  canadaelection      canadavotes  elxn...</td>\n",
       "      <td>None</td>\n",
       "      <td>None</td>\n",
       "      <td>None</td>\n",
       "      <td>None</td>\n",
       "      <td>1</td>\n",
       "      <td>0</td>\n",
       "    </tr>\n",
       "    <tr>\n",
       "      <th>4</th>\n",
       "      <td>Negative</td>\n",
       "      <td>Economy</td>\n",
       "      <td>canada  taxpayers sick   tired hard earned   ...</td>\n",
       "      <td>Liberal</td>\n",
       "      <td>None</td>\n",
       "      <td>None</td>\n",
       "      <td>None</td>\n",
       "      <td>0</td>\n",
       "      <td>0</td>\n",
       "    </tr>\n",
       "  </tbody>\n",
       "</table>\n",
       "</div>"
      ],
      "text/plain": [
       "  sentiment                      negative_reason  \\\n",
       "0  Negative  Women Reproductive right and Racism   \n",
       "1  Positive                                        \n",
       "2  Negative                              Economy   \n",
       "3  Positive                                        \n",
       "4  Negative                              Economy   \n",
       "\n",
       "                                                text  Liberal  Conservative  \\\n",
       "0   rosiebarton suggestion  agree  canadian  wome...     None  Conservative   \n",
       "1   allwomanspacewalk it's real   space station  ...     None          None   \n",
       "2   brantford it's cost     billion   years  just...  Liberal          None   \n",
       "3   canada  canadaelection      canadavotes  elxn...     None          None   \n",
       "4   canada  taxpayers sick   tired hard earned   ...  Liberal          None   \n",
       "\n",
       "  NewDemocratic  None  score  pred  \n",
       "0          None  None      0     0  \n",
       "1          None  None      1     0  \n",
       "2          None  None      0     0  \n",
       "3          None  None      1     0  \n",
       "4          None  None      0     0  "
      ]
     },
     "execution_count": 71,
     "metadata": {},
     "output_type": "execute_result"
    }
   ],
   "source": [
    "election['pred'] = y_el_pred\n",
    "election.head()"
   ]
  },
  {
   "cell_type": "code",
   "execution_count": 78,
   "metadata": {},
   "outputs": [],
   "source": [
    "liberal = election.loc[election['Liberal']=='Liberal']\n",
    "conservative = election.loc[election['Conservative']=='Conservative']\n",
    "NDP = election.loc[election['NewDemocratic']=='NewDemocratic']"
   ]
  },
  {
   "cell_type": "markdown",
   "metadata": {},
   "source": [
    "### 4.4.1 Liberal"
   ]
  },
  {
   "cell_type": "code",
   "execution_count": 79,
   "metadata": {},
   "outputs": [
    {
     "data": {
      "text/plain": [
       "0    327\n",
       "1    315\n",
       "Name: score, dtype: int64"
      ]
     },
     "execution_count": 79,
     "metadata": {},
     "output_type": "execute_result"
    }
   ],
   "source": [
    "#true sentiments\n",
    "liberal['score'].value_counts()"
   ]
  },
  {
   "cell_type": "code",
   "execution_count": 81,
   "metadata": {},
   "outputs": [
    {
     "data": {
      "text/plain": [
       "0    534\n",
       "1    108\n",
       "Name: pred, dtype: int64"
      ]
     },
     "execution_count": 81,
     "metadata": {},
     "output_type": "execute_result"
    }
   ],
   "source": [
    "#sentiments predictions\n",
    "liberal['pred'].value_counts()"
   ]
  },
  {
   "cell_type": "code",
   "execution_count": 207,
   "metadata": {},
   "outputs": [
    {
     "data": {
      "text/plain": [
       "<function matplotlib.pyplot.show(*args, **kw)>"
      ]
     },
     "execution_count": 207,
     "metadata": {},
     "output_type": "execute_result"
    },
    {
     "data": {
      "image/png": "[encoded data removed]",
      "text/plain": [
       "<Figure size 432x288 with 2 Axes>"
      ]
     },
     "metadata": {
      "needs_background": "light"
     },
     "output_type": "display_data"
    }
   ],
   "source": [
    "fig, (ax1, ax2) = plt.subplots(1, 2)\n",
    "fig.suptitle('Sentiments comparison of Liberal')\n",
    "p1 = plt.subplot(121) \n",
    "liberal['score'].value_counts().plot.bar() \n",
    "p1.set_xlabel('true sentiments')\n",
    "plt.sca(p1)\n",
    "\n",
    "p2 = plt.subplot(122)  \n",
    "liberal['pred'].value_counts().plot.bar() \n",
    "p2.set_xlabel('sentiments predictions')\n",
    "plt.sca(p2)\n",
    "plt.show"
   ]
  },
  {
   "cell_type": "markdown",
   "metadata": {},
   "source": [
    "### 4.4.2 Conservative"
   ]
  },
  {
   "cell_type": "code",
   "execution_count": 82,
   "metadata": {},
   "outputs": [
    {
     "data": {
      "text/plain": [
       "0    464\n",
       "1    247\n",
       "Name: score, dtype: int64"
      ]
     },
     "execution_count": 82,
     "metadata": {},
     "output_type": "execute_result"
    }
   ],
   "source": [
    "#true sentiments\n",
    "conservative['score'].value_counts()"
   ]
  },
  {
   "cell_type": "code",
   "execution_count": 83,
   "metadata": {},
   "outputs": [
    {
     "data": {
      "text/plain": [
       "0    623\n",
       "1     88\n",
       "Name: pred, dtype: int64"
      ]
     },
     "execution_count": 83,
     "metadata": {},
     "output_type": "execute_result"
    }
   ],
   "source": [
    "#sentiments prediction\n",
    "conservative['pred'].value_counts()"
   ]
  },
  {
   "cell_type": "code",
   "execution_count": 208,
   "metadata": {},
   "outputs": [
    {
     "data": {
      "text/plain": [
       "<function matplotlib.pyplot.show(*args, **kw)>"
      ]
     },
     "execution_count": 208,
     "metadata": {},
     "output_type": "execute_result"
    },
    {
     "data": {
      "image/png": "[encoded data removed]",
      "text/plain": [
       "<Figure size 432x288 with 2 Axes>"
      ]
     },
     "metadata": {
      "needs_background": "light"
     },
     "output_type": "display_data"
    }
   ],
   "source": [
    "fig, (ax1, ax2) = plt.subplots(1, 2)\n",
    "fig.suptitle('Sentiments comparison of Conservative')\n",
    "p1 = plt.subplot(121) \n",
    "conservative['score'].value_counts().plot.bar() \n",
    "p1.set_xlabel('true sentiments')\n",
    "plt.sca(p1)\n",
    "\n",
    "p2 = plt.subplot(122)  \n",
    "conservative['pred'].value_counts().plot.bar() \n",
    "p2.set_xlabel('sentiments predictions')\n",
    "plt.sca(p2)\n",
    "plt.show"
   ]
  },
  {
   "cell_type": "markdown",
   "metadata": {},
   "source": [
    "### 4.4.3 NDP"
   ]
  },
  {
   "cell_type": "code",
   "execution_count": 84,
   "metadata": {},
   "outputs": [
    {
     "data": {
      "text/plain": [
       "1    165\n",
       "0    102\n",
       "Name: score, dtype: int64"
      ]
     },
     "execution_count": 84,
     "metadata": {},
     "output_type": "execute_result"
    }
   ],
   "source": [
    "#true sentiments\n",
    "NDP['score'].value_counts()"
   ]
  },
  {
   "cell_type": "code",
   "execution_count": 85,
   "metadata": {},
   "outputs": [
    {
     "data": {
      "text/plain": [
       "0    228\n",
       "1     39\n",
       "Name: pred, dtype: int64"
      ]
     },
     "execution_count": 85,
     "metadata": {},
     "output_type": "execute_result"
    }
   ],
   "source": [
    "#sentiments prediction\n",
    "NDP['pred'].value_counts()"
   ]
  },
  {
   "cell_type": "code",
   "execution_count": 209,
   "metadata": {},
   "outputs": [
    {
     "data": {
      "text/plain": [
       "<function matplotlib.pyplot.show(*args, **kw)>"
      ]
     },
     "execution_count": 209,
     "metadata": {},
     "output_type": "execute_result"
    },
    {
     "data": {
      "image/png": "[encoded data removed]",
      "text/plain": [
       "<Figure size 432x288 with 2 Axes>"
      ]
     },
     "metadata": {
      "needs_background": "light"
     },
     "output_type": "display_data"
    }
   ],
   "source": [
    "fig, (ax1, ax2) = plt.subplots(1, 2)\n",
    "fig.suptitle('Sentiments comparison of NDP')\n",
    "p1 = plt.subplot(121) \n",
    "NDP['score'].value_counts().plot.bar() \n",
    "p1.set_xlabel('true sentiments')\n",
    "plt.sca(p1)\n",
    "\n",
    "p2 = plt.subplot(122)  \n",
    "NDP['pred'].value_counts().plot.bar() \n",
    "p2.set_xlabel('sentiments predictions')\n",
    "plt.sca(p2)\n",
    "plt.show"
   ]
  },
  {
   "cell_type": "markdown",
   "metadata": {},
   "source": [
    "### 4.4.4 Analysis"
   ]
  },
  {
   "cell_type": "raw",
   "metadata": {},
   "source": [
    "A) True_sentiments\n",
    "Number of positively tweets for each party:\n",
    "Liberal(315) | Conservative(247) | New Democrat(102)\n",
    "percentage of positively tweets for each party:\n",
    "Liberal(47.44%) | Conservative(37.20%) | New Democrat(15.36%)\n",
    "\n",
    "Number of negatively analyzed tweets for each party:\n",
    "Liberal(327) | Conservative(464) | New Democrat(165) \n",
    "\n",
    "B) predicted_sentiments\n",
    "Number of positively predicted tweets for each party: \n",
    "Liberal(108) | Conservative(88) | New Democrat(39)\n",
    "percentage of positively predicted tweets for each party:\n",
    "Liberal(45.96%) | Conservative(37.45%) | New Democrat(17.59%)\n",
    "\n",
    "Number of negatively analyzed tweets for each party:\n",
    "Liberal(534) | Conservative(623) | New Democrat(228)\n",
    "\n",
    "C) Actual Result of Canadian Federal Election 2019\n",
    "Liberal(39.47%) | Conservative(31.89%) | New Democrat(19.71%) "
   ]
  },
  {
   "cell_type": "raw",
   "metadata": {},
   "source": [
    "As we can see, the percentage of positively predicted tweets for each party basically match with the percentage of positively tweets for each party and the actual result of Canadian Federal Election 2019. So NLP analytics based on tweets is useful for political parties during election campaigns"
   ]
  },
  {
   "cell_type": "markdown",
   "metadata": {
    "colab_type": "text",
    "id": "cLPmuL_Pr7HW"
   },
   "source": [
    "# 4.4 Negative Reason Predict"
   ]
  },
  {
   "cell_type": "code",
   "execution_count": 93,
   "metadata": {
    "colab": {
     "base_uri": "https://localhost:8080/",
     "height": 255
    },
    "colab_type": "code",
    "executionInfo": {
     "elapsed": 1150,
     "status": "ok",
     "timestamp": 1585244774852,
     "user": {
      "displayName": "Qiuchen Wang",
      "photoUrl": "",
      "userId": "05364527419333773535"
     },
     "user_tz": 240
    },
    "id": "DH83lOhSszGg",
    "outputId": "4f1048d5-ecda-42f6-bf7f-b446a4b253aa"
   },
   "outputs": [
    {
     "data": {
      "text/html": [
       "<div>\n",
       "<style scoped>\n",
       "    .dataframe tbody tr th:only-of-type {\n",
       "        vertical-align: middle;\n",
       "    }\n",
       "\n",
       "    .dataframe tbody tr th {\n",
       "        vertical-align: top;\n",
       "    }\n",
       "\n",
       "    .dataframe thead th {\n",
       "        text-align: right;\n",
       "    }\n",
       "</style>\n",
       "<table border=\"1\" class=\"dataframe\">\n",
       "  <thead>\n",
       "    <tr style=\"text-align: right;\">\n",
       "      <th></th>\n",
       "      <th>sentiment</th>\n",
       "      <th>negative_reason</th>\n",
       "      <th>text</th>\n",
       "      <th>Liberal</th>\n",
       "      <th>Conservative</th>\n",
       "      <th>NewDemocratic</th>\n",
       "      <th>None</th>\n",
       "      <th>score</th>\n",
       "      <th>pred</th>\n",
       "    </tr>\n",
       "  </thead>\n",
       "  <tbody>\n",
       "    <tr>\n",
       "      <th>0</th>\n",
       "      <td>Negative</td>\n",
       "      <td>Women Reproductive right and Racism</td>\n",
       "      <td>rosiebarton suggestion  agree  canadian  wome...</td>\n",
       "      <td>None</td>\n",
       "      <td>Conservative</td>\n",
       "      <td>None</td>\n",
       "      <td>None</td>\n",
       "      <td>0</td>\n",
       "      <td>0</td>\n",
       "    </tr>\n",
       "    <tr>\n",
       "      <th>2</th>\n",
       "      <td>Negative</td>\n",
       "      <td>Economy</td>\n",
       "      <td>brantford it's cost     billion   years  just...</td>\n",
       "      <td>Liberal</td>\n",
       "      <td>None</td>\n",
       "      <td>None</td>\n",
       "      <td>None</td>\n",
       "      <td>0</td>\n",
       "      <td>0</td>\n",
       "    </tr>\n",
       "    <tr>\n",
       "      <th>4</th>\n",
       "      <td>Negative</td>\n",
       "      <td>Economy</td>\n",
       "      <td>canada  taxpayers sick   tired hard earned   ...</td>\n",
       "      <td>Liberal</td>\n",
       "      <td>None</td>\n",
       "      <td>None</td>\n",
       "      <td>None</td>\n",
       "      <td>0</td>\n",
       "      <td>0</td>\n",
       "    </tr>\n",
       "    <tr>\n",
       "      <th>5</th>\n",
       "      <td>Negative</td>\n",
       "      <td>Others</td>\n",
       "      <td>canadavotes      elxn    cdnpoli   facts    b...</td>\n",
       "      <td>None</td>\n",
       "      <td>Conservative</td>\n",
       "      <td>None</td>\n",
       "      <td>None</td>\n",
       "      <td>0</td>\n",
       "      <td>0</td>\n",
       "    </tr>\n",
       "    <tr>\n",
       "      <th>8</th>\n",
       "      <td>Negative</td>\n",
       "      <td>Others</td>\n",
       "      <td>chooseforward  cdnpoli  elxn   canada  americ...</td>\n",
       "      <td>Liberal</td>\n",
       "      <td>None</td>\n",
       "      <td>None</td>\n",
       "      <td>None</td>\n",
       "      <td>0</td>\n",
       "      <td>0</td>\n",
       "    </tr>\n",
       "  </tbody>\n",
       "</table>\n",
       "</div>"
      ],
      "text/plain": [
       "  sentiment                      negative_reason  \\\n",
       "0  Negative  Women Reproductive right and Racism   \n",
       "2  Negative                              Economy   \n",
       "4  Negative                              Economy   \n",
       "5  Negative                               Others   \n",
       "8  Negative                               Others   \n",
       "\n",
       "                                                text  Liberal  Conservative  \\\n",
       "0   rosiebarton suggestion  agree  canadian  wome...     None  Conservative   \n",
       "2   brantford it's cost     billion   years  just...  Liberal          None   \n",
       "4   canada  taxpayers sick   tired hard earned   ...  Liberal          None   \n",
       "5   canadavotes      elxn    cdnpoli   facts    b...     None  Conservative   \n",
       "8   chooseforward  cdnpoli  elxn   canada  americ...  Liberal          None   \n",
       "\n",
       "  NewDemocratic  None  score  pred  \n",
       "0          None  None      0     0  \n",
       "2          None  None      0     0  \n",
       "4          None  None      0     0  \n",
       "5          None  None      0     0  \n",
       "8          None  None      0     0  "
      ]
     },
     "execution_count": 93,
     "metadata": {},
     "output_type": "execute_result"
    }
   ],
   "source": [
    "#find all negative election tweets\n",
    "el_negative=election['sentiment'].str.contains(\"Negative\")\n",
    "df_nega_el = election[el_negative]\n",
    "df_nega_el.head()"
   ]
  },
  {
   "cell_type": "code",
   "execution_count": 108,
   "metadata": {
    "colab": {
     "base_uri": "https://localhost:8080/",
     "height": 85
    },
    "colab_type": "code",
    "executionInfo": {
     "elapsed": 834,
     "status": "ok",
     "timestamp": 1585244786320,
     "user": {
      "displayName": "Qiuchen Wang",
      "photoUrl": "",
      "userId": "05364527419333773535"
     },
     "user_tz": 240
    },
    "id": "ga70__EPtrHp",
    "outputId": "db337bda-f378-4d37-d600-c1f36f06b7c4"
   },
   "outputs": [
    {
     "data": {
      "text/plain": [
       "Index(['Climate Problem', 'Economy', 'Healthcare', 'Healthcare and Marijuana',\n",
       "       'Others', 'Privilege', 'Scandal', 'Separation', 'Tell lies',\n",
       "       'Women Reproductive right and Racism'],\n",
       "      dtype='object')"
      ]
     },
     "execution_count": 108,
     "metadata": {},
     "output_type": "execute_result"
    }
   ],
   "source": [
    "df_nega_el['negative_reason'] = df_nega_el['negative_reason'].astype('category')\n",
    "df_nega_el['negative_reason'].cat.categories"
   ]
  },
  {
   "cell_type": "markdown",
   "metadata": {
    "colab_type": "text",
    "id": "Q78LmnJsvAaQ"
   },
   "source": [
    "**combine similar reasons into fewer categories**:\n",
    "\n",
    "combine 'Healthcare' and 'Healthcare and Marijuana' to 'Healthcare and Marijuana', since they both care about Healthcare.\n",
    "\n",
    "combine 'Scandal' and 'Tell lies' to 'Crisis of Confidence', since both of them will cause people no longer believe the candidate."
   ]
  },
  {
   "cell_type": "code",
   "execution_count": 109,
   "metadata": {
    "colab": {},
    "colab_type": "code",
    "id": "UsBlxqS46mYG"
   },
   "outputs": [],
   "source": [
    "t1=df_nega_el['negative_reason'].str.replace('Healthcare','Healthcare and Marijuana')\n",
    "t2=t1.str.replace('Scandal','Crisis of Confidence').str.replace('Tell lies','Crisis of Confidence')"
   ]
  },
  {
   "cell_type": "code",
   "execution_count": 153,
   "metadata": {
    "colab": {},
    "colab_type": "code",
    "id": "WbAKHvIr9CFC"
   },
   "outputs": [],
   "source": [
    "X_ne=df_nega_el['text'].values\n",
    "y_ne=t2.values"
   ]
  },
  {
   "cell_type": "code",
   "execution_count": 154,
   "metadata": {
    "colab": {},
    "colab_type": "code",
    "id": "JqmgS0yN9OXL"
   },
   "outputs": [],
   "source": [
    "X_train_ne, X_test_ne, y_train_ne, y_test_ne = train_test_split(X_ne,y_ne,test_size=0.3, random_state=101)"
   ]
  },
  {
   "cell_type": "code",
   "execution_count": 155,
   "metadata": {
    "colab": {
     "base_uri": "https://localhost:8080/",
     "height": 34
    },
    "colab_type": "code",
    "executionInfo": {
     "elapsed": 1079,
     "status": "ok",
     "timestamp": 1585246315331,
     "user": {
      "displayName": "Qiuchen Wang",
      "photoUrl": "",
      "userId": "05364527419333773535"
     },
     "user_tz": 240
    },
    "id": "nGoMMshZ9-xP",
    "outputId": "e8a17112-1e27-498b-96b4-9755607a17e7"
   },
   "outputs": [
    {
     "name": "stdout",
     "output_type": "stream",
     "text": [
      "(704, 4035)\n"
     ]
    }
   ],
   "source": [
    "#use ef to verctorize\n",
    "vectorizer4 = CountVectorizer ()\n",
    "vectorizer4.fit(X_train_ne)\n",
    "X_train_ne = vectorizer4.transform(X_train_ne)\n",
    "print(X_train_ne.shape)"
   ]
  },
  {
   "cell_type": "code",
   "execution_count": 156,
   "metadata": {
    "colab": {},
    "colab_type": "code",
    "id": "9SDsLfkK-frz"
   },
   "outputs": [],
   "source": [
    "X_test_ne = vectorizer4.transform(X_test_ne)"
   ]
  },
  {
   "cell_type": "code",
   "execution_count": 158,
   "metadata": {
    "colab": {},
    "colab_type": "code",
    "id": "TL36Vp0s-1rV"
   },
   "outputs": [],
   "source": [
    "#choose logistic regression\n",
    "model1 = LogisticRegression()\n",
    "model1.fit(X_train_ne,y_train_ne)\n",
    "ne_pred = model1.predict(X_test_ne)"
   ]
  },
  {
   "cell_type": "code",
   "execution_count": 160,
   "metadata": {
    "colab": {
     "base_uri": "https://localhost:8080/",
     "height": 204
    },
    "colab_type": "code",
    "executionInfo": {
     "elapsed": 775,
     "status": "ok",
     "timestamp": 1585246325326,
     "user": {
      "displayName": "Qiuchen Wang",
      "photoUrl": "",
      "userId": "05364527419333773535"
     },
     "user_tz": 240
    },
    "id": "Fv5b4tMWAZ16",
    "outputId": "896f98f1-4874-4de4-f8dd-18d1a0a9e1f1"
   },
   "outputs": [
    {
     "data": {
      "text/html": [
       "<div>\n",
       "<style scoped>\n",
       "    .dataframe tbody tr th:only-of-type {\n",
       "        vertical-align: middle;\n",
       "    }\n",
       "\n",
       "    .dataframe tbody tr th {\n",
       "        vertical-align: top;\n",
       "    }\n",
       "\n",
       "    .dataframe thead th {\n",
       "        text-align: right;\n",
       "    }\n",
       "</style>\n",
       "<table border=\"1\" class=\"dataframe\">\n",
       "  <thead>\n",
       "    <tr style=\"text-align: right;\">\n",
       "      <th></th>\n",
       "      <th>true</th>\n",
       "      <th>predicted</th>\n",
       "    </tr>\n",
       "  </thead>\n",
       "  <tbody>\n",
       "    <tr>\n",
       "      <th>0</th>\n",
       "      <td>Others</td>\n",
       "      <td>Others</td>\n",
       "    </tr>\n",
       "    <tr>\n",
       "      <th>1</th>\n",
       "      <td>Crisis of Confidence</td>\n",
       "      <td>Others</td>\n",
       "    </tr>\n",
       "    <tr>\n",
       "      <th>2</th>\n",
       "      <td>Women Reproductive right and Racism</td>\n",
       "      <td>Others</td>\n",
       "    </tr>\n",
       "    <tr>\n",
       "      <th>3</th>\n",
       "      <td>Crisis of Confidence</td>\n",
       "      <td>Crisis of Confidence</td>\n",
       "    </tr>\n",
       "    <tr>\n",
       "      <th>4</th>\n",
       "      <td>Others</td>\n",
       "      <td>Others</td>\n",
       "    </tr>\n",
       "  </tbody>\n",
       "</table>\n",
       "</div>"
      ],
      "text/plain": [
       "                                  true             predicted\n",
       "0                               Others                Others\n",
       "1                 Crisis of Confidence                Others\n",
       "2  Women Reproductive right and Racism                Others\n",
       "3                 Crisis of Confidence  Crisis of Confidence\n",
       "4                               Others                Others"
      ]
     },
     "execution_count": 160,
     "metadata": {},
     "output_type": "execute_result"
    }
   ],
   "source": [
    "resultsDF_lr = pd.DataFrame({\n",
    "        'true':y_test_ne,\n",
    "        'predicted':ne_pred\n",
    "    })\n",
    "resultsDF_lr.head()"
   ]
  },
  {
   "cell_type": "code",
   "execution_count": 163,
   "metadata": {
    "colab": {
     "base_uri": "https://localhost:8080/",
     "height": 34
    },
    "colab_type": "code",
    "executionInfo": {
     "elapsed": 896,
     "status": "ok",
     "timestamp": 1585246331548,
     "user": {
      "displayName": "Qiuchen Wang",
      "photoUrl": "",
      "userId": "05364527419333773535"
     },
     "user_tz": 240
    },
    "id": "YFExXvoTAnnN",
    "outputId": "9fad3322-ef7b-4e18-b949-65617eb7bac9"
   },
   "outputs": [
    {
     "name": "stdout",
     "output_type": "stream",
     "text": [
      "lr Accuracy: 57.95%\n"
     ]
    }
   ],
   "source": [
    "print('lr Accuracy: %.2f%%' % (accuracy_score(y_test_ne,ne_pred)*100))"
   ]
  },
  {
   "cell_type": "code",
   "execution_count": 213,
   "metadata": {},
   "outputs": [
    {
     "data": {
      "text/plain": [
       "<function matplotlib.pyplot.show(*args, **kw)>"
      ]
     },
     "execution_count": 213,
     "metadata": {},
     "output_type": "execute_result"
    },
    {
     "data": {
      "image/png": "[encoded data removed]",
      "text/plain": [
       "<Figure size 432x288 with 2 Axes>"
      ]
     },
     "metadata": {
      "needs_background": "light"
     },
     "output_type": "display_data"
    }
   ],
   "source": [
    "fig, (ax1, ax2) = plt.subplots(1, 2)\n",
    "fig.suptitle('comparison of negative reasons and predictions(logistic regression)')\n",
    "p1 = plt.subplot(121) \n",
    "resultsDF_lr['true'].value_counts().plot.bar() \n",
    "p1.set_xlabel('negative reasons')\n",
    "plt.sca(p1)\n",
    "\n",
    "p2 = plt.subplot(122)  \n",
    "resultsDF_lr['predicted'].value_counts().plot.bar() \n",
    "p2.set_xlabel('predictions')\n",
    "plt.sca(p2)\n",
    "plt.show"
   ]
  },
  {
   "cell_type": "code",
   "execution_count": 174,
   "metadata": {
    "colab": {},
    "colab_type": "code",
    "id": "yi2nIw7jC6ML"
   },
   "outputs": [],
   "source": [
    "#choose KNN\n",
    "model2 = KNeighborsClassifier(n_neighbors=10)\n",
    "model2.fit(X_train_ne,y_train_ne)\n",
    "ne_pred = model2.predict(X_test_ne)"
   ]
  },
  {
   "cell_type": "code",
   "execution_count": 175,
   "metadata": {
    "colab": {
     "base_uri": "https://localhost:8080/",
     "height": 34
    },
    "colab_type": "code",
    "executionInfo": {
     "elapsed": 918,
     "status": "ok",
     "timestamp": 1585246404775,
     "user": {
      "displayName": "Qiuchen Wang",
      "photoUrl": "",
      "userId": "05364527419333773535"
     },
     "user_tz": 240
    },
    "id": "D_1JcosgDEdL",
    "outputId": "b5eab038-0ee5-4f85-f6ad-05a566f72b3c"
   },
   "outputs": [
    {
     "name": "stdout",
     "output_type": "stream",
     "text": [
      "knn Accuracy: 33.11%\n"
     ]
    }
   ],
   "source": [
    "print('knn Accuracy: %.2f%%' % (accuracy_score(y_test_ne,ne_pred)*100))"
   ]
  },
  {
   "cell_type": "code",
   "execution_count": 180,
   "metadata": {
    "colab": {},
    "colab_type": "code",
    "id": "5g3KWXtcDKlt"
   },
   "outputs": [],
   "source": [
    "#choose SVM\n",
    "model3 = SVC()\n",
    "model3.fit(X_train_ne,y_train_ne)\n",
    "ne_pred = model3.predict(X_test_ne)"
   ]
  },
  {
   "cell_type": "code",
   "execution_count": 181,
   "metadata": {
    "colab": {
     "base_uri": "https://localhost:8080/",
     "height": 34
    },
    "colab_type": "code",
    "executionInfo": {
     "elapsed": 942,
     "status": "ok",
     "timestamp": 1585246508194,
     "user": {
      "displayName": "Qiuchen Wang",
      "photoUrl": "",
      "userId": "05364527419333773535"
     },
     "user_tz": 240
    },
    "id": "f3gQbp2VDdiE",
    "outputId": "0b3065a9-42a9-4ffd-ff5d-9a152b189669"
   },
   "outputs": [
    {
     "name": "stdout",
     "output_type": "stream",
     "text": [
      "svm Accuracy: 51.66%\n"
     ]
    }
   ],
   "source": [
    "print('svm Accuracy: %.2f%%' % (accuracy_score(y_test_ne,ne_pred)*100))"
   ]
  },
  {
   "cell_type": "markdown",
   "metadata": {
    "colab_type": "text",
    "id": "mzfokT3wOqWz"
   },
   "source": [
    "# Step5.Results\n",
    "\n"
   ]
  },
  {
   "cell_type": "markdown",
   "metadata": {},
   "source": [
    "## 5.1 First model"
   ]
  },
  {
   "cell_type": "markdown",
   "metadata": {
    "colab_type": "text",
    "id": "fQJB13LjOUZy"
   },
   "source": [
    "When implement the best model in election tweets, the accuracy_score is around 50%, which means the model can't give much reliable information about the election data. The reason is the word frequency of the two dataset is different and to reduce time conplexity, we only select 1000 features from data in Sentiment.csv, however, the election data contains 4305 features, so the model is underfitting.\n",
    "The classification_report shows that the model we train in the Sentiment.csv can predict Positive sentiment much better than Negative Sentiment. The confusion metrix shows that the false negative is high. The reason is that the amount of Negative sentiments in Sentiment.csv is much more than the Positive sentiment, so the algorithm we choose seems more likely to predict Negative. To improve this, we can drop some of the Negative sentiment in training data to reduce the false negative."
   ]
  },
  {
   "cell_type": "markdown",
   "metadata": {},
   "source": [
    "Based on the amount of sentiments, most of them are Conservative and Liberal. However, there are much more Negative sentiments in Conservative both on the true labels and our predictions. Conservative is a topical party. But it had received a spate of unfavorable tweets. \n",
    "Liberal is also a topical party. And the percentagem of positive tweets is higher than other parties. So the public will more tend to give positive conments to liberal party.\n",
    "The percentage of nagative tweets for NDP is much lower than Conservative, but the amount of tweets is much lower than Conservative and Liberal. Two political parties, Liberal Party and the Conservative Party, have dominated Canada politics."
   ]
  },
  {
   "cell_type": "markdown",
   "metadata": {},
   "source": [
    "## 5.2 Second model"
   ]
  },
  {
   "cell_type": "code",
   "execution_count": 211,
   "metadata": {},
   "outputs": [
    {
     "data": {
      "text/plain": [
       "<matplotlib.axes._subplots.AxesSubplot at 0x1a225da050>"
      ]
     },
     "execution_count": 211,
     "metadata": {},
     "output_type": "execute_result"
    },
    {
     "data": {
      "image/png": "[encoded data removed]",
      "text/plain": [
       "<Figure size 432x288 with 1 Axes>"
      ]
     },
     "metadata": {
      "needs_background": "light"
     },
     "output_type": "display_data"
    }
   ],
   "source": [
    "df_nega_el['negative_reason'].value_counts().plot.bar()"
   ]
  },
  {
   "cell_type": "raw",
   "metadata": {},
   "source": [
    "In the second model, to some negative reasons, the corresponding text does not contain some clear words that can be related to the reason. And some of the negative reasons, like Healthcare and Marijuana only have 4 samples in the dataset, the labels of negative reasons are uneven distributed.\n",
    "Some labels are similar, like Healthcare, Healthcare and Marijuana. I combined some of the similar reasons, the accuracy of the model is improved. Also we can add more data of the negative reasons like 'Healthcare and Marijuana','Separation' and 'Privilege'. Or we can convert these reasons to Others."
   ]
  },
  {
   "cell_type": "markdown",
   "metadata": {},
   "source": [
    "# Bonus"
   ]
  },
  {
   "cell_type": "markdown",
   "metadata": {},
   "source": [
    "## Deep  Learning  algorithms"
   ]
  },
  {
   "cell_type": "code",
   "execution_count": 198,
   "metadata": {},
   "outputs": [
    {
     "name": "stdout",
     "output_type": "stream",
     "text": [
      "30% testing data accuracy: 0.7147011555827657\n",
      "30% testing f1_score: 0.6939914632811645\n"
     ]
    }
   ],
   "source": [
    "from sklearn.neural_network import MLPClassifier\n",
    "clf = MLPClassifier(solver='lbfgs', alpha=1e-4,hidden_layer_sizes=(5, 2), random_state=1)\n",
    "clf.fit(X_train_wf, y_train)\n",
    "nn_pred = clf.predict(X_test_wf)\n",
    "acc_nn = accuracy_score(y_test,nn_pred)\n",
    "f1_nn = f1_score(y_test,nn_pred)\n",
    "print('30% testing data accuracy:',acc_nn)\n",
    "print('30% testing f1_score:',f1_nn)"
   ]
  },
  {
   "cell_type": "code",
   "execution_count": 196,
   "metadata": {},
   "outputs": [
    {
     "data": {
      "text/plain": [
       "model                                           lr\n",
       "hyperparams    {'C': 0.001, 'solver': 'newton-cg'}\n",
       "train_acc                                 0.724592\n",
       "train_std                               0.00131072\n",
       "test_acc                                  0.715266\n",
       "test_std                                0.00464788\n",
       "accuracy                                  0.712864\n",
       "f1_score                                  0.695751\n",
       "Name: 0, dtype: object"
      ]
     },
     "execution_count": 196,
     "metadata": {},
     "output_type": "execute_result"
    }
   ],
   "source": [
    "#best classification model\n",
    "resultDF_wf_2.iloc[0]"
   ]
  },
  {
   "cell_type": "markdown",
   "metadata": {},
   "source": [
    "Compared with the best classification model in testing data of Sentiment.csv, the accuracy improved."
   ]
  },
  {
   "cell_type": "code",
   "execution_count": 200,
   "metadata": {},
   "outputs": [
    {
     "name": "stdout",
     "output_type": "stream",
     "text": [
      "Accuracy of nn: 59.49%\n"
     ]
    }
   ],
   "source": [
    "#predict the sentiment of election data using NN\n",
    "clf.fit(X_train_sen,y_train_sen)\n",
    "y_el_pred=clf.predict(X_test_el)\n",
    "print('Accuracy of nn: %.2f%%' % (accuracy_score(y_test_el, y_el_pred)*100))"
   ]
  },
  {
   "cell_type": "markdown",
   "metadata": {},
   "source": [
    "compared with the accuracy of the best classification model which is 51.66%, the accuracy imporved 8%."
   ]
  }
 ],
 "metadata": {
  "colab": {
   "authorship_tag": "ABX9TyOB61wRdH7ifqrqlRUEYn00",
   "collapsed_sections": [],
   "mount_file_id": "10uB_Z07Ij4GKuBFi9HNXJkc6l9XCXNw0",
   "name": "Untitled0.ipynb",
   "provenance": [],
   "toc_visible": true
  },
  "kernelspec": {
   "display_name": "Python 3",
   "language": "python",
   "name": "python3"
  },
  "language_info": {
   "codemirror_mode": {
    "name": "ipython",
    "version": 3
   },
   "file_extension": ".py",
   "mimetype": "text/x-python",
   "name": "python",
   "nbconvert_exporter": "python",
   "pygments_lexer": "ipython3",
   "version": "3.7.6"
  }
 },
 "nbformat": 4,
 "nbformat_minor": 1
}
